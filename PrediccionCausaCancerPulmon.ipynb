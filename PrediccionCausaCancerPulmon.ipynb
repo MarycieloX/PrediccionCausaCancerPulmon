{
  "nbformat": 4,
  "nbformat_minor": 0,
  "metadata": {
    "colab": {
      "name": "PrediccionCausaCancerPulmon",
      "provenance": [],
      "collapsed_sections": [],
      "include_colab_link": true
    },
    "kernelspec": {
      "name": "python3",
      "display_name": "Python 3"
    },
    "language_info": {
      "name": "python"
    }
  },
  "cells": [
    {
      "cell_type": "markdown",
      "metadata": {
        "id": "view-in-github",
        "colab_type": "text"
      },
      "source": [
        "<a href=\"https://colab.research.google.com/github/MarycieloX/PrediccionCausaCancerPulmon/blob/main/PrediccionCausaCancerPulmon.ipynb\" target=\"_parent\"><img src=\"https://colab.research.google.com/assets/colab-badge.svg\" alt=\"Open In Colab\"/></a>"
      ]
    },
    {
      "cell_type": "code",
      "execution_count": 1,
      "metadata": {
        "id": "4IrP54aH-yMN"
      },
      "outputs": [],
      "source": [
        "import pandas as pd\n",
        "from sklearn.model_selection import train_test_split"
      ]
    },
    {
      "cell_type": "code",
      "source": [
        "train=pd.read_csv('train.csv')"
      ],
      "metadata": {
        "id": "qNiZASyI_EMd"
      },
      "execution_count": 2,
      "outputs": []
    },
    {
      "cell_type": "code",
      "source": [
        "train.info()"
      ],
      "metadata": {
        "id": "Miuy5CLtCjin",
        "colab": {
          "base_uri": "https://localhost:8080/"
        },
        "outputId": "8c7564fa-2720-499d-9825-bd48326ab1d4"
      },
      "execution_count": 3,
      "outputs": [
        {
          "output_type": "stream",
          "name": "stdout",
          "text": [
            "<class 'pandas.core.frame.DataFrame'>\n",
            "RangeIndex: 309 entries, 0 to 308\n",
            "Data columns (total 16 columns):\n",
            " #   Column                 Non-Null Count  Dtype \n",
            "---  ------                 --------------  ----- \n",
            " 0   GENDER                 309 non-null    object\n",
            " 1   AGE                    309 non-null    int64 \n",
            " 2   SMOKING                309 non-null    int64 \n",
            " 3   YELLOW_FINGERS         309 non-null    int64 \n",
            " 4   ANXIETY                309 non-null    int64 \n",
            " 5   PEER_PRESSURE          309 non-null    int64 \n",
            " 6   CHRONIC DISEASE        309 non-null    int64 \n",
            " 7   FATIGUE                309 non-null    int64 \n",
            " 8   ALLERGY                309 non-null    int64 \n",
            " 9   WHEEZING               309 non-null    int64 \n",
            " 10  ALCOHOL CONSUMING      309 non-null    int64 \n",
            " 11  COUGHING               309 non-null    int64 \n",
            " 12  SHORTNESS OF BREATH    309 non-null    int64 \n",
            " 13  SWALLOWING DIFFICULTY  309 non-null    int64 \n",
            " 14  CHEST PAIN             309 non-null    int64 \n",
            " 15  LUNG_CANCER            309 non-null    object\n",
            "dtypes: int64(14), object(2)\n",
            "memory usage: 38.8+ KB\n"
          ]
        }
      ]
    },
     {
      "cell_type": "markdown",
      "source": [
        "Género: M (masculino), F (femenino)\n",
        "\n",
        "Género: M (masculino), F (femenino)\n",
        "\n",
        "Edad: Edad del paciente\n",
        "\n",
        "Tabaquismo: SI=2 , NO=1.\n",
        "\n",
        "Dedos amarillos: SÍ=2, NO=1.\n",
        "\n",
        "Ansiedad: SI=2 , NO=1.\n",
        "\n",
        "Presión de grupo: SÍ=2, NO=1.\n",
        "\n",
        "Enfermedad Crónica: SI=2 , NO=1.\n",
        "\n",
        "Fatiga: SI=2 , NO=1.\n",
        "\n",
        "Alergia: SI=2 , NO=1.\n",
        "\n",
        "Sibilancias: SI=2 , NO=1.\n",
        "\n",
        "Alcohol: SI=2 , NO=1.\n",
        "\n",
        "Tos: SI=2 , NO=1.\n",
        "\n",
        "Dificultad para respirar: SÍ=2, NO=1.\n",
        "\n",
        "Dificultad para tragar: SÍ=2, NO=1.\n",
        "\n",
        "Dolor torácico: SI=2 , NO=1.\n",
        "\n",
        "Cáncer de pulmón: SÍ, NO."
      ],
      "metadata": {
        "id": "simlLnxs_UKy"
      }
    },
    {
      "cell_type": "code",
      "source": [
        "train.describe(include='object')"
      ],
      "metadata": {
        "id": "MTEPhKFiDENg",
        "outputId": "6f05818f-55ee-4e93-9741-b08a083de310",
        "colab": {
          "base_uri": "https://localhost:8080/",
          "height": 175
        }
      },
      "execution_count": 4,
      "outputs": [
        {
          "output_type": "execute_result",
          "data": {
            "text/plain": [
              "       GENDER LUNG_CANCER\n",
              "count     309         309\n",
              "unique      2           2\n",
              "top         M         YES\n",
              "freq      162         270"
            ],
            "text/html": [
              "\n",
              "  <div id=\"df-e68520ee-d960-4f4b-9148-92c0637c86ce\">\n",
              "    <div class=\"colab-df-container\">\n",
              "      <div>\n",
              "<style scoped>\n",
              "    .dataframe tbody tr th:only-of-type {\n",
              "        vertical-align: middle;\n",
              "    }\n",
              "\n",
              "    .dataframe tbody tr th {\n",
              "        vertical-align: top;\n",
              "    }\n",
              "\n",
              "    .dataframe thead th {\n",
              "        text-align: right;\n",
              "    }\n",
              "</style>\n",
              "<table border=\"1\" class=\"dataframe\">\n",
              "  <thead>\n",
              "    <tr style=\"text-align: right;\">\n",
              "      <th></th>\n",
              "      <th>GENDER</th>\n",
              "      <th>LUNG_CANCER</th>\n",
              "    </tr>\n",
              "  </thead>\n",
              "  <tbody>\n",
              "    <tr>\n",
              "      <th>count</th>\n",
              "      <td>309</td>\n",
              "      <td>309</td>\n",
              "    </tr>\n",
              "    <tr>\n",
              "      <th>unique</th>\n",
              "      <td>2</td>\n",
              "      <td>2</td>\n",
              "    </tr>\n",
              "    <tr>\n",
              "      <th>top</th>\n",
              "      <td>M</td>\n",
              "      <td>YES</td>\n",
              "    </tr>\n",
              "    <tr>\n",
              "      <th>freq</th>\n",
              "      <td>162</td>\n",
              "      <td>270</td>\n",
              "    </tr>\n",
              "  </tbody>\n",
              "</table>\n",
              "</div>\n",
              "      <button class=\"colab-df-convert\" onclick=\"convertToInteractive('df-e68520ee-d960-4f4b-9148-92c0637c86ce')\"\n",
              "              title=\"Convert this dataframe to an interactive table.\"\n",
              "              style=\"display:none;\">\n",
              "        \n",
              "  <svg xmlns=\"http://www.w3.org/2000/svg\" height=\"24px\"viewBox=\"0 0 24 24\"\n",
              "       width=\"24px\">\n",
              "    <path d=\"M0 0h24v24H0V0z\" fill=\"none\"/>\n",
              "    <path d=\"M18.56 5.44l.94 2.06.94-2.06 2.06-.94-2.06-.94-.94-2.06-.94 2.06-2.06.94zm-11 1L8.5 8.5l.94-2.06 2.06-.94-2.06-.94L8.5 2.5l-.94 2.06-2.06.94zm10 10l.94 2.06.94-2.06 2.06-.94-2.06-.94-.94-2.06-.94 2.06-2.06.94z\"/><path d=\"M17.41 7.96l-1.37-1.37c-.4-.4-.92-.59-1.43-.59-.52 0-1.04.2-1.43.59L10.3 9.45l-7.72 7.72c-.78.78-.78 2.05 0 2.83L4 21.41c.39.39.9.59 1.41.59.51 0 1.02-.2 1.41-.59l7.78-7.78 2.81-2.81c.8-.78.8-2.07 0-2.86zM5.41 20L4 18.59l7.72-7.72 1.47 1.35L5.41 20z\"/>\n",
              "  </svg>\n",
              "      </button>\n",
              "      \n",
              "  <style>\n",
              "    .colab-df-container {\n",
              "      display:flex;\n",
              "      flex-wrap:wrap;\n",
              "      gap: 12px;\n",
              "    }\n",
              "\n",            
              "    .colab-df-convert {\n",
              "      background-color: #E8F0FE;\n",
              "      border: none;\n",
              "      border-radius: 50%;\n",
              "      cursor: pointer;\n",
              "      display: none;\n",
              "      fill: #1967D2;\n",
              "      height: 32px;\n",
              "      padding: 0 0 0 0;\n",
              "      width: 32px;\n",
              "    }\n",
              "\n",
              "    .colab-df-convert:hover {\n",
              "      background-color: #E2EBFA;\n",
              "      box-shadow: 0px 1px 2px rgba(60, 64, 67, 0.3), 0px 1px 3px 1px rgba(60, 64, 67, 0.15);\n",
              "      fill: #174EA6;\n",
              "    }\n",
              "\n",
              "    [theme=dark] .colab-df-convert {\n",
              "      background-color: #3B4455;\n",
              "      fill: #D2E3FC;\n",
              "    }\n",
              "\n",
              "    [theme=dark] .colab-df-convert:hover {\n",
              "      background-color: #434B5C;\n",
              "      box-shadow: 0px 1px 3px 1px rgba(0, 0, 0, 0.15);\n",
              "      filter: drop-shadow(0px 1px 2px rgba(0, 0, 0, 0.3));\n",
              "      fill: #FFFFFF;\n",
              "    }\n",
              "  </style>\n",
              "\n",
              "      <script>\n",
              "        const buttonEl =\n",
              "          document.querySelector('#df-e68520ee-d960-4f4b-9148-92c0637c86ce button.colab-df-convert');\n",
              "        buttonEl.style.display =\n",
              "          google.colab.kernel.accessAllowed ? 'block' : 'none';\n",
              "\n",
              "        async function convertToInteractive(key) {\n",
              "          const element = document.querySelector('#df-e68520ee-d960-4f4b-9148-92c0637c86ce');\n",
              "          const dataTable =\n",
              "            await google.colab.kernel.invokeFunction('convertToInteractive',\n",
              "                                                     [key], {});\n",
              "          if (!dataTable) return;\n",
              "\n",
              "          const docLinkHtml = 'Like what you see? Visit the ' +\n",
              "            '<a target=\"_blank\" href=https://colab.research.google.com/notebooks/data_table.ipynb>data table notebook</a>'\n",
              "            + ' to learn more about interactive tables.';\n",
              "          element.innerHTML = '';\n",
              "          dataTable['output_type'] = 'display_data';\n",
              "          await google.colab.output.renderOutput(dataTable, element);\n",
              "          const docLink = document.createElement('div');\n",
              "          docLink.innerHTML = docLinkHtml;\n",
              "          element.appendChild(docLink);\n",
              "        }\n",
              "      </script>\n",
              "    </div>\n",
              "  </div>\n",
              "  "
            ]
          },
          "metadata": {},
          "execution_count": 4
        }
      ]
    },
    {
      "cell_type": "code",
      "source": [
        "train['LUNG_CANCER'].hist()"
      ],
      "metadata": {
        "id": "hjULH97fD0d_",
        "outputId": "450114a0-32b2-4504-b4a2-1350196e6732",
        "colab": {
          "base_uri": "https://localhost:8080/",
          "height": 282
        }
      },
      "execution_count": 5,
      "outputs": [
        {
          "output_type": "execute_result",
          "data": {
            "text/plain": [
              "<matplotlib.axes._subplots.AxesSubplot at 0x7f9aa431ea50>"
            ]
          },
          "metadata": {},
          "execution_count": 5
        },
        {
          "output_type": "display_data",
          "data": {
            "text/plain": [
              "<Figure size 432x288 with 1 Axes>"
            ],
            "image/png": "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\n"
          },
          "metadata": {
            "needs_background": "light"
          }
        }
      ]
    },
    {
      "cell_type": "code",
      "source": [
        "train.head()"
      ],
      "metadata": {
        "colab": {
          "base_uri": "https://localhost:8080/",
          "height": 287
        },
        "id": "90wRgpIn_Eaa",
        "outputId": "d41c38bf-fb4b-492e-edee-f7df1a81553c"
      },
      
      
      
      
      
      
      
      
    {
      "cell_type": "code",
      "source": [
        "print(x_train[0:5], x_test[0:5], y_train[0:5], y_test[0:5])"
      ],
      "metadata": {
        "id": "JtJtB13SG8n0",
        "outputId": "69197897-6632-461f-d92d-250257ef7ef8",
        "colab": {
          "base_uri": "https://localhost:8080/"
        }
      },
      "execution_count": 39,
      "outputs": [
        {
          "output_type": "stream",
          "name": "stdout",
          "text": [
            "[[ 0.94099431  0.95860259  1.08840038]\n",
            " [-0.59488146  0.95860259  1.08840038]\n",
            " [-1.36281934  0.95860259 -0.91877954]\n",
            " [ 0.94099431 -1.04318517  1.08840038]\n",
            " [ 0.17305642 -1.04318517  1.08840038]] [[-0.59488146 -1.04318517  1.08840038]\n",
            " [ 0.17305642 -1.04318517 -0.91877954]\n",
            " [ 0.17305642  0.95860259 -0.91877954]\n",
            " [ 0.17305642  0.95860259  1.08840038]\n",
            " [ 0.17305642  0.95860259  1.08840038]] [[1]\n",
            " [1]\n",
            " [0]\n",
            " [1]\n",
            " [1]] [[1]\n",
            " [1]\n",
            " [0]\n",
            " [1]\n",
            " [1]]\n"
          ]
        }
      ]
    },
    {
      "cell_type": "code",
      "source": [
        "\n",
        "def sigmoide(x):\n",
        "  return (1.0/(1.0+np.exp(-x)))\n",
        "def derivada(x):\n",
        "  return sigmoide(x)*(1.0-sigmoide(x))\n",
        "\n",
        "def neurona(entrada, pesosCO1, tendenciasC01, pesosCO2, tendenciasCO2, pesosCO3, tendenciasCO3, pesosCO4, tendenciasCO4, pesosCO5, tendenciasCO5, pesosCO6, tendenciasCO6,pesosCS, tendenciasCS):\n",
         "\n",
        "  entradaNetaC1=np.dot(pesosCO1, np.transpose(entrada))-tendenciasC01\n",
        "  salidaC1=sigmoide(entradaNetaC1)\n",
        "\n",
        "  entradaNetaC2 = np.dot(pesosCO2,salidaC1)-tendenciasCO2\n",
        "  salidaC2=sigmoide(entradaNetaC2)\n",
        "\n",
        "  entradaNetaC3 = np.dot(pesosCO3,salidaC2)-tendenciasCO3\n",
        "  salidaC3=sigmoide(entradaNetaC3)\n",
        "\n",
        "  entradaNetaC4 = np.dot(pesosCO4,salidaC3)-tendenciasCO4\n",
        "  salidaC4=sigmoide(entradaNetaC4)\n",
        "\n",
        "  entradaNetaC5 = np.dot(pesosCO5,salidaC4)-tendenciasCO5\n",
        "  salidaC5=sigmoide(entradaNetaC5)\n",
        "\n",
        "  entradaNetaC6 = np.dot(pesosCO6,salidaC5)-tendenciasCO6\n",
        "  salidaC6=sigmoide(entradaNetaC6)\n",
        "\n",
        "  entradaNetaCS = np.dot(pesosCS,salidaC6)-tendenciasCS\n",
        "  salida=sigmoide(entradaNetaCS)\n",
        "\n",
        "  return salida, entradaNetaCS, entradaNetaC6, entradaNetaC5, entradaNetaC4, entradaNetaC3, entradaNetaC2, entradaNetaC1\n",
        "# el algoritmo recibe\n",
        "# FacorAprendizaje: que tanto se permite el cambio en los pesos w(t) = e*error'f'(neta)*xj\n",
        "# error: un valor de error que permitimos\n",
        "# entradas: el conjunto de entradas que se van a trabajar \n",
        "# salidas: salidas esperadas\n",
        "# max-it: el numero de iteraciones que permitimos\n",
        "# alpha: el valor de incremento del factor de aprendzaje\n",
        "# rho: El valor de decremento del factor de aprendizaje\n",
        "# neuronasC1: numero de neuronas en la capa oculta 1\n",
        "# neuronasC2: numero de neuronas en la capa oculta 2\n",
        "# neuronasC3: numero de neuronas en la capa oculta 3\n",
        "# neuronasC4: numero de neuronas en la capa oculta 4\n",
        "# neuronasC5: numero de neuronas en la capa oculta 5\n",
        "# neuronasC6: numero de neuronas en la capa oculta 6\n",
        "def backpropagation(entradas, salidas,factorAprendizaje, error, max_it, alpha, rho, neuronasC1, neuronasC2, neuronasC3, neuronasC4, neuronasC5, neuronasC6):\n",
        "\n",
        "  # tiene 6 neuronas y como 3 ENTRADAS entradas tenemos una matriz de 6x3\n",
        "  pesosCO1=2*np.random.rand(neuronasC1,entradas.shape[1])-1\n",
        "  tendenciasC1=2*np.random.rand(neuronasC1)-1\n",
        "\n",
        "  # pesos capa oculta 2\n",
        "  # la capa oculta 2 tiene 2 neuronas y recive las salidas de 5 neuronas en la capa oculta 1\n",
        "  pesosCO2=2*np.random.rand(neuronasC2,neuronasC1)-1\n",
        "  tendenciasC2=2*np.random.rand(neuronasC2)-1\n",
        "\n",
        "  # capa oculta 3\n",
        "  pesosCO3=2*np.random.rand(neuronasC3,neuronasC2)-1\n",
        "  tendenciasC3=2*np.random.rand(neuronasC3)-1\n",
        "\n",
        "  # capa oculta 4\n",
        "  pesosCO4=2*np.random.rand(neuronasC4,neuronasC3)-1\n",
        "  tendenciasC4=2*np.random.rand(neuronasC4)-1\n",
        "\n",
        "  # capa oculta 5\n",
        "  pesosCO5=2*np.random.rand(neuronasC5,neuronasC4)-1\n",
        "  tendenciasC5=2*np.random.rand(neuronasC5)-1\n",
        "\n",
        "   # capa oculta 6\n",
        "  pesosCO6=2*np.random.rand(neuronasC6,neuronasC5)-1\n",
        "  tendenciasC6=2*np.random.rand(neuronasC6)-1\n",
        "\n",
        "  # Generamos los pesos de la capa de salida, 1 salida (1 neurona) y tenemos 2 entradas que vienen de la capa oculta 2\n",
        "  pesosCS = 2*np.random.rand(neuronasC6)-1\n",
        "  tendenciasCS=2*np.random.rand(1)-1\n",
        "  it=0\n",
        "  errorVec=[]\n",
        "  errorAnt=float('inf')\n",
        "  while(it<max_it):\n",
        "    it+=1\n",
        "    errorIt=0\n",
        "    for i in range(0, entradas.shape[0]):\n",
        "      ent=entradas[i]\n",
        "      t=salidas[i]\n",
        "      y,entradaNetaCS, entradaNetaC6,entradaNetaC5, entradaNetaC4, entradaNetaC3, entradaNetaC2, entradaNetaC1=neurona(\n",
        "          ent, pesosCO1, tendenciasC1, pesosCO2, tendenciasC2, pesosCO3, tendenciasC3, pesosCO4, tendenciasC4, pesosCO5, tendenciasC5, pesosCO6, tendenciasC6, pesosCS, tendenciasCS\n",
        "        )\n",
        "\n",
        "      errorIt+=np.power(t-y,2)/2.0\n",
        "\n",
        "    errorVec.append(errorIt)\n",
        "    for i in range(0, entradas.shape[0]):\n",
        "      ent=entradas[i]\n",
        "      t=salidas[i]\n",
        "      y, entradaNetaCS, entradaNetaC6,entradaNetaC5, entradaNetaC4, entradaNetaC3, entradaNetaC2, entradaNetaC1 = neurona(\n",
        "          ent, pesosCO1, tendenciasC1, pesosCO2, tendenciasC2, pesosCO3, tendenciasC3, pesosCO4, tendenciasC4, pesosCO5, tendenciasC5, pesosCO6, tendenciasC6, pesosCS, tendenciasCS\n",
        "      )\n",
        "\n",
        "      # calcular el error en la capa salida\n",
        "      errorCS=(t-y)*derivada(entradaNetaCS)\n",
        "\n",
        "      # calcular la capa oculta 6------------------------------------------------------------------------------------------------------------------------------\n",
        "      errorC6=0\n",
        "      for j in range(0,pesosCS.shape[0]):\n",
        "        errorC6+=pesosCS[j]*errorCS*derivada(entradaNetaC6[j])\n",
        "\n",
        "      # calcular el error  capa oculta 5------------------------------------------------------------------------------------------------------------------------------\n",
        "      errorC5=0\n",
        "      for j in range(0,pesosCO6.shape[0]):\n",
        "        for k in range(0, pesosCO6.shape[1]):\n",
        "          errorC5 += pesosCO6[j][k]*errorC6*derivada(entradaNetaC5[k])\n",
        "\n",
        "      # calcular el error  capa oculta 4------------------------------------------------------------------------------------------------------------------------------\n",
        "      errorC4=0\n",
        "      for j in range(0,pesosCO5.shape[0]):\n",
        "        for k in range(0, pesosCO5.shape[1]):\n",
        "          errorC4 += pesosCO5[j][k]*errorC5*derivada(entradaNetaC4[k])\n",
        "      # calcular el error capa oculta 3\n",
        "      errorC3=0\n",
        "      for j in range(0,pesosCO4.shape[0]):\n",
        "        for k in range(0, pesosCO4.shape[1]):\n",
        "          errorC3 += pesosCO4[j][k]*errorC4*derivada(entradaNetaC3[k])\n",
        "\n",
        "      #calcular el error capa oculta 2\n",
        "      errorC2=0\n",
        "      for j in range(0,pesosCO3.shape[0]):\n",
        "        for k in range(0, pesosCO3.shape[1]):\n",
        "          errorC2 += pesosCO3[j][k]*errorC3*derivada(entradaNetaC2[k])\n",
        "\n",
        "      #Calcular el error de la capa oculta 1\n",
        "      errorC1=0\n",
        "      for j in range(0, pesosCO2.shape[0]):\n",
        "        for k in range(0, pesosCO2.shape[1]):\n",
        "          errorC1 += pesosCO2[j][k]*errorC2*derivada(entradaNetaC1[k])\n",
        "\n",
        "      # actualiza pesos\n",
        "      # cada salida\n",
        "      for j in range(0, pesosCS.shape[0]):\n",
        "        pesosCS[j]+=factorAprendizaje*errorCS*entradaNetaCS\n",
        "\n",
        "      #Actualizar las tendencias\n",
        "      for j in range(0,tendenciasCS.shape[0]):\n",
        "        tendenciasCS[j]+=factorAprendizaje*errorCS*(-1)\n",
        "\n",
        "       #pesos capa oculta 6-----------------------------------------------------------------------------------------------------------------------------------------\n",
        "      for j in range(0, pesosCO6.shape[0]): #neurona de CO6\n",
        "        for k in range(0, pesosCO6.shape[1]): #Salida de la CO5\n",
        "          pesosCO6[j][k]+=factorAprendizaje*errorC6*entradaNetaC6[j]\n",
        "\n",
        "      # \n",
        "      # actualizar las tendencias 6\n",
        "      for j in range(0, tendenciasC6.shape[0]):\n",
        "        tendenciasC6[j]+=factorAprendizaje*errorC6*(-1)\n",
        "\n",
        "\n",
        "      #pesos capa oculta 5-----------------------------------------------------------------------------------------------------------------------------------------\n",
        "      for j in range(0, pesosCO5.shape[0]): #neurona de CO5\n",
        "        for k in range(0, pesosCO5.shape[1]): #Salida de la CO4\n",
        "          pesosCO5[j][k]+=factorAprendizaje*errorC5*entradaNetaC5[j]\n",
        "      # \n",
        "      # actualizar las tendencias 5\n",
        "      for j in range(0, tendenciasC5.shape[0]):\n",
        "        tendenciasC5[j]+=factorAprendizaje*errorC5*(-1)\n",
        "\n",
        "\n",
        "      #pesos capa oculta 4-----------------------------------------------------------------------------------------------------------------------------------------\n",
        "      for j in range(0, pesosCO4.shape[0]): #neurona de CO4\n",
        "        for k in range(0, pesosCO4.shape[1]): #Salida de la CO3\n",
        "          pesosCO4[j][k]+=factorAprendizaje*errorC4*entradaNetaC4[j]\n",
        "      # \n",
        "      # actualizar las tendencias 4\n",
        "      for j in range(0, tendenciasC4.shape[0]):\n",
        "        tendenciasC4[j]+=factorAprendizaje*errorC4*(-1)\n",
        "\n",
        "      \n",
        "      #pesos capa oculta 3\n",
        "      for j in range(0, pesosCO3.shape[0]): #neurona de CO3\n",
        "        for k in range(0, pesosCO3.shape[1]): #Salida de la CO2\n",
        "          pesosCO3[j][k]+=factorAprendizaje*errorC3*entradaNetaC3[j]\n",
        "      # \n",
        "      # actualizar las tendencias 3\n",
        "      for j in range(0, tendenciasC3.shape[0]):\n",
        "        tendenciasC3[j]+=factorAprendizaje*errorC3*(-1)\n",
        "\n",
        "      #pesos capa oculta 2\n",
        "      for j in range(0, pesosCO2.shape[0]): #neurona de CO2\n",
        "        for k in range(0, pesosCO2.shape[1]): #Salida de la CO1\n",
        "          pesosCO2[j][k]+=factorAprendizaje*errorC2*entradaNetaC2[j]\n",
        "      # \n",
        "      # actualizar las tendencias 2\n",
        "      for j in range(0, tendenciasC2.shape[0]):\n",
        "        tendenciasC2[j]+=factorAprendizaje*errorC2*(-1)\n",
        "\n",
        "      # Pesos capa oculta 1\n",
        "      for j in range(0, pesosCO1.shape[0]):\n",
        "        for k in range(0, pesosCO1.shape[1]):\n",
        "          pesosCO1[j][k]+=factorAprendizaje*errorC1*entradaNetaC1[j]\n",
        "\n",
        "      #Actualizar las tendencias 1\n",
        "      for j in range(0,tendenciasC1.shape[0]):\n",
        "        tendenciasC1[j]+=factorAprendizaje*errorC1*(-1)\n",
        "\n",
        "    if errorIt < errorAnt:\n",
        "      factorAprendizaje*=alpha\n",
        "  else:\n",
        "    factorAprendizaje*=rho\n",
        "  errorAnt=errorIt\n",
        "  return pesosCS, pesosCO1, pesosCO2, pesosCO3, pesosCO4, pesosCO5,pesosCO6, tendenciasC1, tendenciasC2, tendenciasC3, tendenciasC4,tendenciasC5,tendenciasC6, tendenciasCS, errorVec"
      ],
      "metadata": {
        "id": "bUieJqHpI6oh"
      },
      "execution_count": 40,
      "outputs": []
    },
    {
      "cell_type": "code",
      "source": [
        "# parametros\n",
        "neuronasC1=3\n",
        "neuronasC2=7\n",
        "neuronasC3=2\n",
        "neuronasC4=2\n",
        "neuronasC5=2\n",
        "neuronasC6=2\n",
        "factorAprendizaje=0.5\n",
        "alpha=1.05 # aumentar el factor de aprendizaje \n",
        "rho=0.95 #disminuir el factor de aprendizaje\n",
        "max_it=200\n",
        "error=0.5"
      ],
      "metadata": {
        "id": "poWZImr2JWx4"
      },
      "execution_count": 41,
      "outputs": []
    },
    {
      "cell_type": "code",
      "source": [
        "# x_train, x_test, y_train, y_test\n",
        "pesosCS, pesosCO1, pesosCO2, pesosCO3, pesosCO4, pesosCO5,pesosCO6, tc1, tc2, tc3, tc4, tc5,tc6, tcs, errorVec=backpropagation(\n",
        "    x_train, y_train, factorAprendizaje, error, max_it, alpha, rho, neuronasC1, neuronasC2, neuronasC3, neuronasC4, neuronasC5, neuronasC6)"
      ],
      "metadata": {
        "id": "dww3r_cUJXpE"
      },
      "execution_count": 42,
      "outputs": []
    },
    {
      "cell_type": "code",
      "source": [
        "import matplotlib.pyplot as plt\n",
        "plt.plot(errorVec) \n",
        "plt.title(\"Error de entrenamiento\")"
      ],
      "metadata": {
        "id": "QgxN4xI1JbB8",
        "outputId": "bc2c5699-ca55-40a1-d3ea-e198af031297",
        "colab": {
          "base_uri": "https://localhost:8080/",
          "height": 298
        }
      },
      "execution_count": 43,
      "outputs": [
        {
          "output_type": "execute_result",
          "data": {
            "text/plain": [
              "Text(0.5, 1.0, 'Error de entrenamiento')"
            ]
          },
          "metadata": {},
          "execution_count": 43
        },
        {
          "output_type": "display_data",
          "data": {
            "text/plain": [
              "<Figure size 432x288 with 1 Axes>"
            ],
            "image/png": "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\n"
          },
          "metadata": {
            "needs_background": "light"
          }
        }
      ]
    },
    {
      "cell_type": "code",
      "source": [
        "import math\n",
        "def errorRNN(x,t):\n",
        "  error=0\n",
        "  emc=0\n",
        "  for i in range(0,x.shape[0]):\n",
        "    authuser=0\n",
        "    xi=x[i]\n",
        "    ti=t[i]\n",
        "    y,entredaNetaCS,entradaNetaC6,entradaNetaC5,entradaNetaC4,entradaNetaC3,entradaNetaC2,entradaNetaC1=neurona(xi,pesosCO1,tc1,pesosCO2,tc2, pesosCO3,tc3, pesosCO4,tc4,pesosCO5,tc5,pesosCO6,tc6,pesosCS, tcs)\n",
        "    \n",
        "    emc=pow((ti-y),2)/2\n",
        "    if int(round(y[0],0))!=ti:\n",
        "      error+=1\n",
        "\n",
        "  error=(error/x.shape[0])*100\n",
        "\n",
        "  return error, emc"
      ],
      "metadata": {
        "id": "KjV5QR3w4h6F"
      },
      "execution_count": 44,
      "outputs": []
    },
    {
      "cell_type": "code",
      "source": [
        "error, emc=errorRNN(x_test, y_test)\n",
        "print(error,emc)"
      ],
      "metadata": {
        "id": "CNZSiLVE4qYW",
        "colab": {
          "base_uri": "https://localhost:8080/"
        },
        "outputId": "087b9e42-f49c-4c4f-e673-ddea35263d5e"
      },
      "execution_count": 45,
      "outputs": [
        {
          "output_type": "stream",
          "name": "stdout",
          "text": [
            "23.25581395348837 [4.29824383e-15]\n"
          ]
        }
      ]
    },
    {
      "cell_type": "code",
      "source": [
        "from sklearn.neural_network import MLPClassifier\n",
        "clf=MLPClassifier(solver='lbfgs', alpha=1e-5,hidden_layer_sizes=(neuronasC1, neuronasC2, neuronasC3, neuronasC4),random_state=1)\n",
        "clf.fit(x_train, y_train)"
      ],
      "metadata": {
        "id": "d6cbX28Z4vU2",
        "colab": {
          "base_uri": "https://localhost:8080/"
        },
        "outputId": "927a3b7f-7116-4c30-8148-ce4086fccfa1"
      },
      "execution_count": 46,
      "outputs": [
        {
          "output_type": "stream",
          "name": "stderr",
          "text": [
            "/usr/local/lib/python3.7/dist-packages/sklearn/neural_network/_multilayer_perceptron.py:1109: DataConversionWarning: A column-vector y was passed when a 1d array was expected. Please change the shape of y to (n_samples, ), for example using ravel().\n",
            "  y = column_or_1d(y, warn=True)\n"
          ]
        },
        {
          "output_type": "execute_result",
          "data": {
            "text/plain": [
              "MLPClassifier(alpha=1e-05, hidden_layer_sizes=(3, 7, 2, 2), random_state=1,\n",
              "              solver='lbfgs')"
            ]
          },
          "metadata": {},
          "execution_count": 46
        }
      ]
    },
    {
      "cell_type": "code",
      "source": [
        "clf.score(x_test, y_test)"
      ],
      "metadata": {
        "id": "3RS45PeZ42ON",
        "colab": {
          "base_uri": "https://localhost:8080/"
        },
        "outputId": "34451c51-bc54-477d-ca7e-960158afd459"
      },
      "execution_count": 47,
      "outputs": [
        {
          "output_type": "execute_result",
          "data": {
            "text/plain": [
              "0.7674418604651163"
            ]
          },
          "metadata": {},
          "execution_count": 47
        }
      ]
    }
  ]
}
