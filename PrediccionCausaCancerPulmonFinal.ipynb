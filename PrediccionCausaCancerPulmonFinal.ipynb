{
  "nbformat": 4,
  "nbformat_minor": 0,
  "metadata": {
    "colab": {
      "name": "PrediccionCausaCancerPulmon",
      "provenance": [],
      "collapsed_sections": [],
      "include_colab_link": true
    },
    "kernelspec": {
      "name": "python3",
      "display_name": "Python 3"
    },
    "language_info": {
      "name": "python"
    }
  },
  "cells": [
    {
      "cell_type": "markdown",
      "metadata": {
        "id": "view-in-github",
        "colab_type": "text"
      },
      "source": [
        "<a href=\"https://colab.research.google.com/github/MarycieloX/PrediccionCausaCancerPulmon/blob/main/PrediccionCausaCancerPulmonFinal.ipynb\" target=\"_parent\"><img src=\"https://colab.research.google.com/assets/colab-badge.svg\" alt=\"Open In Colab\"/></a>"
      ]
    },
    {
      "cell_type": "code",
      "execution_count": 1,
      "metadata": {
        "id": "4IrP54aH-yMN"
      },
      "outputs": [],
      "source": [
        "import pandas as pd\n",
        "from sklearn.model_selection import train_test_split"
      ]
    },
    {
      "cell_type": "code",
      "source": [
        "train=pd.read_csv('train.csv')"
      ],
      "metadata": {
        "id": "qNiZASyI_EMd"
      },
      "execution_count": 2,
      "outputs": []
    },
    {
      "cell_type": "code",
      "source": [
        "train.info()"
      ],
      "metadata": {
        "id": "Miuy5CLtCjin",
        "colab": {
          "base_uri": "https://localhost:8080/"
        },
        "outputId": "a14c48e5-b0d0-484b-aaeb-cee090dbb947"
      },
      "execution_count": 3,
      "outputs": [
        {
          "output_type": "stream",
          "name": "stdout",
          "text": [
            "<class 'pandas.core.frame.DataFrame'>\n",
            "RangeIndex: 309 entries, 0 to 308\n",
            "Data columns (total 16 columns):\n",
            " #   Column                 Non-Null Count  Dtype \n",
            "---  ------                 --------------  ----- \n",
            " 0   GENDER                 309 non-null    object\n",
            " 1   AGE                    309 non-null    int64 \n",
            " 2   SMOKING                309 non-null    int64 \n",
            " 3   YELLOW_FINGERS         309 non-null    int64 \n",
            " 4   ANXIETY                309 non-null    int64 \n",
            " 5   PEER_PRESSURE          309 non-null    int64 \n",
            " 6   CHRONIC DISEASE        309 non-null    int64 \n",
            " 7   FATIGUE                309 non-null    int64 \n",
            " 8   ALLERGY                309 non-null    int64 \n",
            " 9   WHEEZING               309 non-null    int64 \n",
            " 10  ALCOHOL CONSUMING      309 non-null    int64 \n",
            " 11  COUGHING               309 non-null    int64 \n",
            " 12  SHORTNESS OF BREATH    309 non-null    int64 \n",
            " 13  SWALLOWING DIFFICULTY  309 non-null    int64 \n",
            " 14  CHEST PAIN             309 non-null    int64 \n",
            " 15  LUNG_CANCER            309 non-null    object\n",
            "dtypes: int64(14), object(2)\n",
            "memory usage: 38.8+ KB\n"
          ]
        }
      ]
    },
    {
      "cell_type": "markdown",
      "source": [
        "Género: M (masculino), F (femenino)\n",
        "\n",
        "Género: M (masculino), F (femenino)\n",
        "\n",
        "Edad: Edad del paciente\n",
        "\n",
        "Tabaquismo: SI=2 , NO=1.\n",
        "\n",
        "Dedos amarillos: SÍ=2, NO=1.\n",
        "\n",
        "Ansiedad: SI=2 , NO=1.\n",
        "\n",
        "Presión de grupo: SÍ=2, NO=1.\n",
        "\n",
        "Enfermedad Crónica: SI=2 , NO=1.\n",
        "\n",
        "Fatiga: SI=2 , NO=1.\n",
        "\n",
        "Alergia: SI=2 , NO=1.\n",
        "\n",
        "Sibilancias: SI=2 , NO=1.\n",
        "\n",
        "Alcohol: SI=2 , NO=1.\n",
        "\n",
        "Tos: SI=2 , NO=1.\n",
        "\n",
        "Dificultad para respirar: SÍ=2, NO=1.\n",
        "\n",
        "Dificultad para tragar: SÍ=2, NO=1.\n",
        "\n",
        "Dolor torácico: SI=2 , NO=1.\n",
        "\n",
        "Cáncer de pulmón: SÍ, NO."
      ],
      "metadata": {
        "id": "simlLnxs_UKy"
      }
    },
    {
      "cell_type": "code",
      "source": [
        "train.describe(include='object')"
      ],
      "metadata": {
        "id": "MTEPhKFiDENg",
        "outputId": "27cab788-c9af-43bb-8e48-2826f2631a31",
        "colab": {
          "base_uri": "https://localhost:8080/",
          "height": 175
        }
      },
      "execution_count": 4,
      "outputs": [
        {
          "output_type": "execute_result",
          "data": {
            "text/plain": [
              "       GENDER LUNG_CANCER\n",
              "count     309         309\n",
              "unique      2           2\n",
              "top         M         YES\n",
              "freq      162         270"
            ],
            "text/html": [
              "\n",
              "  <div id=\"df-e5dc326f-5e3e-4835-87ee-3e2c1f4bd766\">\n",
              "    <div class=\"colab-df-container\">\n",
              "      <div>\n",
              "<style scoped>\n",
              "    .dataframe tbody tr th:only-of-type {\n",
              "        vertical-align: middle;\n",
              "    }\n",
              "\n",
              "    .dataframe tbody tr th {\n",
              "        vertical-align: top;\n",
              "    }\n",
              "\n",
              "    .dataframe thead th {\n",
              "        text-align: right;\n",
              "    }\n",
              "</style>\n",
              "<table border=\"1\" class=\"dataframe\">\n",
              "  <thead>\n",
              "    <tr style=\"text-align: right;\">\n",
              "      <th></th>\n",
              "      <th>GENDER</th>\n",
              "      <th>LUNG_CANCER</th>\n",
              "    </tr>\n",
              "  </thead>\n",
              "  <tbody>\n",
              "    <tr>\n",
              "      <th>count</th>\n",
              "      <td>309</td>\n",
              "      <td>309</td>\n",
              "    </tr>\n",
              "    <tr>\n",
              "      <th>unique</th>\n",
              "      <td>2</td>\n",
              "      <td>2</td>\n",
              "    </tr>\n",
              "    <tr>\n",
              "      <th>top</th>\n",
              "      <td>M</td>\n",
              "      <td>YES</td>\n",
              "    </tr>\n",
              "    <tr>\n",
              "      <th>freq</th>\n",
              "      <td>162</td>\n",
              "      <td>270</td>\n",
              "    </tr>\n",
              "  </tbody>\n",
              "</table>\n",
              "</div>\n",
              "      <button class=\"colab-df-convert\" onclick=\"convertToInteractive('df-e5dc326f-5e3e-4835-87ee-3e2c1f4bd766')\"\n",
              "              title=\"Convert this dataframe to an interactive table.\"\n",
              "              style=\"display:none;\">\n",
              "        \n",
              "  <svg xmlns=\"http://www.w3.org/2000/svg\" height=\"24px\"viewBox=\"0 0 24 24\"\n",
              "       width=\"24px\">\n",
              "    <path d=\"M0 0h24v24H0V0z\" fill=\"none\"/>\n",
              "    <path d=\"M18.56 5.44l.94 2.06.94-2.06 2.06-.94-2.06-.94-.94-2.06-.94 2.06-2.06.94zm-11 1L8.5 8.5l.94-2.06 2.06-.94-2.06-.94L8.5 2.5l-.94 2.06-2.06.94zm10 10l.94 2.06.94-2.06 2.06-.94-2.06-.94-.94-2.06-.94 2.06-2.06.94z\"/><path d=\"M17.41 7.96l-1.37-1.37c-.4-.4-.92-.59-1.43-.59-.52 0-1.04.2-1.43.59L10.3 9.45l-7.72 7.72c-.78.78-.78 2.05 0 2.83L4 21.41c.39.39.9.59 1.41.59.51 0 1.02-.2 1.41-.59l7.78-7.78 2.81-2.81c.8-.78.8-2.07 0-2.86zM5.41 20L4 18.59l7.72-7.72 1.47 1.35L5.41 20z\"/>\n",
              "  </svg>\n",
              "      </button>\n",
              "      \n",
              "  <style>\n",
              "    .colab-df-container {\n",
              "      display:flex;\n",
              "      flex-wrap:wrap;\n",
              "      gap: 12px;\n",
              "    }\n",
              "\n",
              "    .colab-df-convert {\n",
              "      background-color: #E8F0FE;\n",
              "      border: none;\n",
              "      border-radius: 50%;\n",
              "      cursor: pointer;\n",
              "      display: none;\n",
              "      fill: #1967D2;\n",
              "      height: 32px;\n",
              "      padding: 0 0 0 0;\n",
              "      width: 32px;\n",
              "    }\n",
              "\n",
              "    .colab-df-convert:hover {\n",
              "      background-color: #E2EBFA;\n",
              "      box-shadow: 0px 1px 2px rgba(60, 64, 67, 0.3), 0px 1px 3px 1px rgba(60, 64, 67, 0.15);\n",
              "      fill: #174EA6;\n",
              "    }\n",
              "\n",
              "    [theme=dark] .colab-df-convert {\n",
              "      background-color: #3B4455;\n",
              "      fill: #D2E3FC;\n",
              "    }\n",
              "\n",
              "    [theme=dark] .colab-df-convert:hover {\n",
              "      background-color: #434B5C;\n",
              "      box-shadow: 0px 1px 3px 1px rgba(0, 0, 0, 0.15);\n",
              "      filter: drop-shadow(0px 1px 2px rgba(0, 0, 0, 0.3));\n",
              "      fill: #FFFFFF;\n",
              "    }\n",
              "  </style>\n",
              "\n",
              "      <script>\n",
              "        const buttonEl =\n",
              "          document.querySelector('#df-e5dc326f-5e3e-4835-87ee-3e2c1f4bd766 button.colab-df-convert');\n",
              "        buttonEl.style.display =\n",
              "          google.colab.kernel.accessAllowed ? 'block' : 'none';\n",
              "\n",
              "        async function convertToInteractive(key) {\n",
              "          const element = document.querySelector('#df-e5dc326f-5e3e-4835-87ee-3e2c1f4bd766');\n",
              "          const dataTable =\n",
              "            await google.colab.kernel.invokeFunction('convertToInteractive',\n",
              "                                                     [key], {});\n",
              "          if (!dataTable) return;\n",
              "\n",
              "          const docLinkHtml = 'Like what you see? Visit the ' +\n",
              "            '<a target=\"_blank\" href=https://colab.research.google.com/notebooks/data_table.ipynb>data table notebook</a>'\n",
              "            + ' to learn more about interactive tables.';\n",
              "          element.innerHTML = '';\n",
              "          dataTable['output_type'] = 'display_data';\n",
              "          await google.colab.output.renderOutput(dataTable, element);\n",
              "          const docLink = document.createElement('div');\n",
              "          docLink.innerHTML = docLinkHtml;\n",
              "          element.appendChild(docLink);\n",
              "        }\n",
              "      </script>\n",
              "    </div>\n",
              "  </div>\n",
              "  "
            ]
          },
          "metadata": {},
          "execution_count": 4
        }
      ]
    },
    {
      "cell_type": "code",
      "source": [
        "train['LUNG_CANCER'].hist()"
      ],
      "metadata": {
        "id": "hjULH97fD0d_",
        "outputId": "547d3c36-3988-441f-abef-416cc99d5389",
        "colab": {
          "base_uri": "https://localhost:8080/",
          "height": 282
        }
      },
      "execution_count": 5,
      "outputs": [
        {
          "output_type": "execute_result",
          "data": {
            "text/plain": [
              "<matplotlib.axes._subplots.AxesSubplot at 0x7fa21f27ec50>"
            ]
          },
          "metadata": {},
          "execution_count": 5
        },
        {
          "output_type": "display_data",
          "data": {
            "text/plain": [
              "<Figure size 432x288 with 1 Axes>"
            ],
            "image/png": "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\n"
          },
          "metadata": {
            "needs_background": "light"
          }
        }
      ]
    },
    {
      "cell_type": "code",
      "source": [
        "train.head()"
      ],
      "metadata": {
        "colab": {
          "base_uri": "https://localhost:8080/",
          "height": 267
        },
        "id": "90wRgpIn_Eaa",
        "outputId": "00bae8b0-cb7e-43cd-9696-ca985fca61d8"
      },
      "execution_count": 6,
      "outputs": [
        {
          "output_type": "execute_result",
          "data": {
            "text/plain": [
              "  GENDER  AGE  SMOKING  YELLOW_FINGERS  ANXIETY  PEER_PRESSURE  \\\n",
              "0      M   69        1               2        2              1   \n",
              "1      M   74        2               1        1              1   \n",
              "2      F   59        1               1        1              2   \n",
              "3      M   63        2               2        2              1   \n",
              "4      F   63        1               2        1              1   \n",
              "\n",
              "   CHRONIC DISEASE  FATIGUE   ALLERGY   WHEEZING  ALCOHOL CONSUMING  COUGHING  \\\n",
              "0                1         2         1         2                  2         2   \n",
              "1                2         2         2         1                  1         1   \n",
              "2                1         2         1         2                  1         2   \n",
              "3                1         1         1         1                  2         1   \n",
              "4                1         1         1         2                  1         2   \n",
              "\n",
              "   SHORTNESS OF BREATH  SWALLOWING DIFFICULTY  CHEST PAIN LUNG_CANCER  \n",
              "0                    2                      2           2         YES  \n",
              "1                    2                      2           2         YES  \n",
              "2                    2                      1           2          NO  \n",
              "3                    1                      2           2          NO  \n",
              "4                    2                      1           1          NO  "
            ],
            "text/html": [
              "\n",
              "  <div id=\"df-697f43e9-5e0d-4faf-95e9-f2b5097cff52\">\n",
              "    <div class=\"colab-df-container\">\n",
              "      <div>\n",
              "<style scoped>\n",
              "    .dataframe tbody tr th:only-of-type {\n",
              "        vertical-align: middle;\n",
              "    }\n",
              "\n",
              "    .dataframe tbody tr th {\n",
              "        vertical-align: top;\n",
              "    }\n",
              "\n",
              "    .dataframe thead th {\n",
              "        text-align: right;\n",
              "    }\n",
              "</style>\n",
              "<table border=\"1\" class=\"dataframe\">\n",
              "  <thead>\n",
              "    <tr style=\"text-align: right;\">\n",
              "      <th></th>\n",
              "      <th>GENDER</th>\n",
              "      <th>AGE</th>\n",
              "      <th>SMOKING</th>\n",
              "      <th>YELLOW_FINGERS</th>\n",
              "      <th>ANXIETY</th>\n",
              "      <th>PEER_PRESSURE</th>\n",
              "      <th>CHRONIC DISEASE</th>\n",
              "      <th>FATIGUE</th>\n",
              "      <th>ALLERGY</th>\n",
              "      <th>WHEEZING</th>\n",
              "      <th>ALCOHOL CONSUMING</th>\n",
              "      <th>COUGHING</th>\n",
              "      <th>SHORTNESS OF BREATH</th>\n",
              "      <th>SWALLOWING DIFFICULTY</th>\n",
              "      <th>CHEST PAIN</th>\n",
              "      <th>LUNG_CANCER</th>\n",
              "    </tr>\n",
              "  </thead>\n",
              "  <tbody>\n",
              "    <tr>\n",
              "      <th>0</th>\n",
              "      <td>M</td>\n",
              "      <td>69</td>\n",
              "      <td>1</td>\n",
              "      <td>2</td>\n",
              "      <td>2</td>\n",
              "      <td>1</td>\n",
              "      <td>1</td>\n",
              "      <td>2</td>\n",
              "      <td>1</td>\n",
              "      <td>2</td>\n",
              "      <td>2</td>\n",
              "      <td>2</td>\n",
              "      <td>2</td>\n",
              "      <td>2</td>\n",
              "      <td>2</td>\n",
              "      <td>YES</td>\n",
              "    </tr>\n",
              "    <tr>\n",
              "      <th>1</th>\n",
              "      <td>M</td>\n",
              "      <td>74</td>\n",
              "      <td>2</td>\n",
              "      <td>1</td>\n",
              "      <td>1</td>\n",
              "      <td>1</td>\n",
              "      <td>2</td>\n",
              "      <td>2</td>\n",
              "      <td>2</td>\n",
              "      <td>1</td>\n",
              "      <td>1</td>\n",
              "      <td>1</td>\n",
              "      <td>2</td>\n",
              "      <td>2</td>\n",
              "      <td>2</td>\n",
              "      <td>YES</td>\n",
              "    </tr>\n",
              "    <tr>\n",
              "      <th>2</th>\n",
              "      <td>F</td>\n",
              "      <td>59</td>\n",
              "      <td>1</td>\n",
              "      <td>1</td>\n",
              "      <td>1</td>\n",
              "      <td>2</td>\n",
              "      <td>1</td>\n",
              "      <td>2</td>\n",
              "      <td>1</td>\n",
              "      <td>2</td>\n",
              "      <td>1</td>\n",
              "      <td>2</td>\n",
              "      <td>2</td>\n",
              "      <td>1</td>\n",
              "      <td>2</td>\n",
              "      <td>NO</td>\n",
              "    </tr>\n",
              "    <tr>\n",
              "      <th>3</th>\n",
              "      <td>M</td>\n",
              "      <td>63</td>\n",
              "      <td>2</td>\n",
              "      <td>2</td>\n",
              "      <td>2</td>\n",
              "      <td>1</td>\n",
              "      <td>1</td>\n",
              "      <td>1</td>\n",
              "      <td>1</td>\n",
              "      <td>1</td>\n",
              "      <td>2</td>\n",
              "      <td>1</td>\n",
              "      <td>1</td>\n",
              "      <td>2</td>\n",
              "      <td>2</td>\n",
              "      <td>NO</td>\n",
              "    </tr>\n",
              "    <tr>\n",
              "      <th>4</th>\n",
              "      <td>F</td>\n",
              "      <td>63</td>\n",
              "      <td>1</td>\n",
              "      <td>2</td>\n",
              "      <td>1</td>\n",
              "      <td>1</td>\n",
              "      <td>1</td>\n",
              "      <td>1</td>\n",
              "      <td>1</td>\n",
              "      <td>2</td>\n",
              "      <td>1</td>\n",
              "      <td>2</td>\n",
              "      <td>2</td>\n",
              "      <td>1</td>\n",
              "      <td>1</td>\n",
              "      <td>NO</td>\n",
              "    </tr>\n",
              "  </tbody>\n",
              "</table>\n",
              "</div>\n",
              "      <button class=\"colab-df-convert\" onclick=\"convertToInteractive('df-697f43e9-5e0d-4faf-95e9-f2b5097cff52')\"\n",
              "              title=\"Convert this dataframe to an interactive table.\"\n",
              "              style=\"display:none;\">\n",
              "        \n",
              "  <svg xmlns=\"http://www.w3.org/2000/svg\" height=\"24px\"viewBox=\"0 0 24 24\"\n",
              "       width=\"24px\">\n",
              "    <path d=\"M0 0h24v24H0V0z\" fill=\"none\"/>\n",
              "    <path d=\"M18.56 5.44l.94 2.06.94-2.06 2.06-.94-2.06-.94-.94-2.06-.94 2.06-2.06.94zm-11 1L8.5 8.5l.94-2.06 2.06-.94-2.06-.94L8.5 2.5l-.94 2.06-2.06.94zm10 10l.94 2.06.94-2.06 2.06-.94-2.06-.94-.94-2.06-.94 2.06-2.06.94z\"/><path d=\"M17.41 7.96l-1.37-1.37c-.4-.4-.92-.59-1.43-.59-.52 0-1.04.2-1.43.59L10.3 9.45l-7.72 7.72c-.78.78-.78 2.05 0 2.83L4 21.41c.39.39.9.59 1.41.59.51 0 1.02-.2 1.41-.59l7.78-7.78 2.81-2.81c.8-.78.8-2.07 0-2.86zM5.41 20L4 18.59l7.72-7.72 1.47 1.35L5.41 20z\"/>\n",
              "  </svg>\n",
              "      </button>\n",
              "      \n",
              "  <style>\n",
              "    .colab-df-container {\n",
              "      display:flex;\n",
              "      flex-wrap:wrap;\n",
              "      gap: 12px;\n",
              "    }\n",
              "\n",
              "    .colab-df-convert {\n",
              "      background-color: #E8F0FE;\n",
              "      border: none;\n",
              "      border-radius: 50%;\n",
              "      cursor: pointer;\n",
              "      display: none;\n",
              "      fill: #1967D2;\n",
              "      height: 32px;\n",
              "      padding: 0 0 0 0;\n",
              "      width: 32px;\n",
              "    }\n",
              "\n",
              "    .colab-df-convert:hover {\n",
              "      background-color: #E2EBFA;\n",
              "      box-shadow: 0px 1px 2px rgba(60, 64, 67, 0.3), 0px 1px 3px 1px rgba(60, 64, 67, 0.15);\n",
              "      fill: #174EA6;\n",
              "    }\n",
              "\n",
              "    [theme=dark] .colab-df-convert {\n",
              "      background-color: #3B4455;\n",
              "      fill: #D2E3FC;\n",
              "    }\n",
              "\n",
              "    [theme=dark] .colab-df-convert:hover {\n",
              "      background-color: #434B5C;\n",
              "      box-shadow: 0px 1px 3px 1px rgba(0, 0, 0, 0.15);\n",
              "      filter: drop-shadow(0px 1px 2px rgba(0, 0, 0, 0.3));\n",
              "      fill: #FFFFFF;\n",
              "    }\n",
              "  </style>\n",
              "\n",
              "      <script>\n",
              "        const buttonEl =\n",
              "          document.querySelector('#df-697f43e9-5e0d-4faf-95e9-f2b5097cff52 button.colab-df-convert');\n",
              "        buttonEl.style.display =\n",
              "          google.colab.kernel.accessAllowed ? 'block' : 'none';\n",
              "\n",
              "        async function convertToInteractive(key) {\n",
              "          const element = document.querySelector('#df-697f43e9-5e0d-4faf-95e9-f2b5097cff52');\n",
              "          const dataTable =\n",
              "            await google.colab.kernel.invokeFunction('convertToInteractive',\n",
              "                                                     [key], {});\n",
              "          if (!dataTable) return;\n",
              "\n",
              "          const docLinkHtml = 'Like what you see? Visit the ' +\n",
              "            '<a target=\"_blank\" href=https://colab.research.google.com/notebooks/data_table.ipynb>data table notebook</a>'\n",
              "            + ' to learn more about interactive tables.';\n",
              "          element.innerHTML = '';\n",
              "          dataTable['output_type'] = 'display_data';\n",
              "          await google.colab.output.renderOutput(dataTable, element);\n",
              "          const docLink = document.createElement('div');\n",
              "          docLink.innerHTML = docLinkHtml;\n",
              "          element.appendChild(docLink);\n",
              "        }\n",
              "      </script>\n",
              "    </div>\n",
              "  </div>\n",
              "  "
            ]
          },
          "metadata": {},
          "execution_count": 6
        }
      ]
    },
    {
      "cell_type": "code",
      "source": [
        "pd.unique(train['GENDER'])"
      ],
      "metadata": {
        "colab": {
          "base_uri": "https://localhost:8080/"
        },
        "id": "Rpqr4Iv2_Em6",
        "outputId": "8760a1cd-ef30-417b-e6eb-308a36c90a4e"
      },
      "execution_count": 7,
      "outputs": [
        {
          "output_type": "execute_result",
          "data": {
            "text/plain": [
              "array(['M', 'F'], dtype=object)"
            ]
          },
          "metadata": {},
          "execution_count": 7
        }
      ]
    },
    {
      "cell_type": "code",
      "source": [
        "pd.unique(train['AGE'])"
      ],
      "metadata": {
        "colab": {
          "base_uri": "https://localhost:8080/"
        },
        "id": "PWh2VU6t_mpS",
        "outputId": "78d84973-9c9d-466f-9bba-f09fbf7837ca"
      },
      "execution_count": 8,
      "outputs": [
        {
          "output_type": "execute_result",
          "data": {
            "text/plain": [
              "array([69, 74, 59, 63, 75, 52, 51, 68, 53, 61, 72, 60, 58, 48, 57, 44, 64,\n",
              "       21, 65, 55, 62, 56, 67, 77, 70, 54, 49, 73, 47, 71, 66, 76, 78, 81,\n",
              "       79, 38, 39, 87, 46])"
            ]
          },
          "metadata": {},
          "execution_count": 8
        }
      ]
    },
    {
      "cell_type": "code",
      "source": [
        "#Dado que encontre que hay personas con edad null, cuantos existen\n",
        "train['AGE'].isna().sum()"
      ],
      "metadata": {
        "colab": {
          "base_uri": "https://localhost:8080/"
        },
        "id": "aPECrlFA_pyZ",
        "outputId": "9fef1a66-fd37-49c9-d878-e2dffe463fa6"
      },
      "execution_count": 9,
      "outputs": [
        {
          "output_type": "execute_result",
          "data": {
            "text/plain": [
              "0"
            ]
          },
          "metadata": {},
          "execution_count": 9
        }
      ]
    },
    {
      "cell_type": "code",
      "source": [
        "#Promedio de edades\n",
        "train['AGE'].mean()"
      ],
      "metadata": {
        "id": "qRMhmt2OE9Bh",
        "outputId": "1682e47c-fb8a-4829-aac9-209006dbe39e",
        "colab": {
          "base_uri": "https://localhost:8080/"
        }
      },
      "execution_count": 10,
      "outputs": [
        {
          "output_type": "execute_result",
          "data": {
            "text/plain": [
              "62.67313915857605"
            ]
          },
          "metadata": {},
          "execution_count": 10
        }
      ]
    },
    {
      "cell_type": "code",
      "source": [
        "#Sirve para rellenar esos registros nulos con el promedio\n",
        "train['AGE']=train['AGE'].fillna(train['AGE'].mean())"
      ],
      "metadata": {
        "id": "c3k4i0y6FT4K"
      },
      "execution_count": 11,
      "outputs": []
    },
    {
      "cell_type": "code",
      "source": [
        "train.isna().sum()"
      ],
      "metadata": {
        "colab": {
          "base_uri": "https://localhost:8080/"
        },
        "id": "62UVKc7N_qjt",
        "outputId": "6e3b5a9b-6d3c-4dd9-956d-ab209e04c128"
      },
      "execution_count": 12,
      "outputs": [
        {
          "output_type": "execute_result",
          "data": {
            "text/plain": [
              "GENDER                   0\n",
              "AGE                      0\n",
              "SMOKING                  0\n",
              "YELLOW_FINGERS           0\n",
              "ANXIETY                  0\n",
              "PEER_PRESSURE            0\n",
              "CHRONIC DISEASE          0\n",
              "FATIGUE                  0\n",
              "ALLERGY                  0\n",
              "WHEEZING                 0\n",
              "ALCOHOL CONSUMING        0\n",
              "COUGHING                 0\n",
              "SHORTNESS OF BREATH      0\n",
              "SWALLOWING DIFFICULTY    0\n",
              "CHEST PAIN               0\n",
              "LUNG_CANCER              0\n",
              "dtype: int64"
            ]
          },
          "metadata": {},
          "execution_count": 12
        }
      ]
    },
    {
      "cell_type": "code",
      "source": [
        "# Aqui toma las columnas que me sirven para el problema\n",
        "train=train[['AGE','SMOKING','ALCOHOL CONSUMING','LUNG_CANCER']]\n",
        "#train.columns"
      ],
      "metadata": {
        "id": "v_W_OxGj_qmN"
      },
      "execution_count": 13,
      "outputs": []
    },
    {
      "cell_type": "code",
      "source": [
        "# Este elimina las filas que tengan algun nulo\n",
        "train=train.dropna() \n",
        "#Luego eliminados los duplicados\n",
        "train=train.drop_duplicates()"
      ],
      "metadata": {
        "id": "iMwiGvc__qoR"
      },
      "execution_count": 14,
      "outputs": []
    },
    {
      "cell_type": "code",
      "source": [
        "train['LUNG_CANCER']"
      ],
      "metadata": {
        "colab": {
          "base_uri": "https://localhost:8080/"
        },
        "id": "ksv4dlSIka6S",
        "outputId": "91ec4c9f-30bc-4613-ae4a-f3bb0f50c2e4"
      },
      "execution_count": 15,
      "outputs": [
        {
          "output_type": "execute_result",
          "data": {
            "text/plain": [
              "0      YES\n",
              "1      YES\n",
              "2       NO\n",
              "3       NO\n",
              "4       NO\n",
              "      ... \n",
              "270     NO\n",
              "272     NO\n",
              "277     NO\n",
              "280     NO\n",
              "282     NO\n",
              "Name: LUNG_CANCER, Length: 142, dtype: object"
            ]
          },
          "metadata": {},
          "execution_count": 15
        }
      ]
    },
    {
      "cell_type": "code",
      "source": [
        "train['LUNG_CANCER'] = train['LUNG_CANCER'].map({'YES':1,'NO':0})"
      ],
      "metadata": {
        "id": "9JwCazvVkdLq"
      },
      "execution_count": 16,
      "outputs": []
    },
    {
      "cell_type": "code",
      "source": [
        "trainDatax=train[['AGE','SMOKING','ALCOHOL CONSUMING']]\n",
        "trainDatay=train[['LUNG_CANCER']]\n",
        "print(trainDatay.head(),\"\\n\", trainDatax.head(),\"\\n\")"
      ],
      "metadata": {
        "id": "CeHvuvCa_qtb",
        "colab": {
          "base_uri": "https://localhost:8080/"
        },
        "outputId": "08b5ebdd-3ecb-4f92-a5ce-970c5864b084"
      },
      "execution_count": 17,
      "outputs": [
        {
          "output_type": "stream",
          "name": "stdout",
          "text": [
            "   LUNG_CANCER\n",
            "0            1\n",
            "1            1\n",
            "2            0\n",
            "3            0\n",
            "4            0 \n",
            "    AGE  SMOKING  ALCOHOL CONSUMING\n",
            "0   69        1                  2\n",
            "1   74        2                  1\n",
            "2   59        1                  1\n",
            "3   63        2                  2\n",
            "4   63        1                  1 \n",
            "\n"
          ]
        }
      ]
    },
    {
      "cell_type": "code",
      "source": [
        "train.plot()"
      ],
      "metadata": {
        "id": "XDcG1I73mXjK",
        "colab": {
          "base_uri": "https://localhost:8080/",
          "height": 282
        },
        "outputId": "90e7297e-3960-46d2-f176-2ef8ed395336"
      },
      "execution_count": 18,
      "outputs": [
        {
          "output_type": "execute_result",
          "data": {
            "text/plain": [
              "<matplotlib.axes._subplots.AxesSubplot at 0x7fa21f163f50>"
            ]
          },
          "metadata": {},
          "execution_count": 18
        },
        {
          "output_type": "display_data",
          "data": {
            "text/plain": [
              "<Figure size 432x288 with 1 Axes>"
            ],
            "image/png": "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\n"
          },
          "metadata": {
            "needs_background": "light"
          }
        }
      ]
    },
    {
      "cell_type": "code",
      "source": [
        "#Trabajar las edades\n",
        "#Facilita encontrar patrones para RN.\n",
        "pd.cut(trainDatax['AGE'],10, retbins=True)"
      ],
      "metadata": {
        "id": "KZPAxz73_ymI",
        "colab": {
          "base_uri": "https://localhost:8080/"
        },
        "outputId": "3022aea4-7b2e-43de-eb62-f159e3919328"
      },
      "execution_count": 19,
      "outputs": [
        {
          "output_type": "execute_result",
          "data": {
            "text/plain": [
              "(0      (67.2, 73.8]\n",
              " 1      (73.8, 80.4]\n",
              " 2      (54.0, 60.6]\n",
              " 3      (60.6, 67.2]\n",
              " 4      (60.6, 67.2]\n",
              "            ...     \n",
              " 270    (67.2, 73.8]\n",
              " 272    (60.6, 67.2]\n",
              " 277    (80.4, 87.0]\n",
              " 280    (54.0, 60.6]\n",
              " 282    (40.8, 47.4]\n",
              " Name: AGE, Length: 142, dtype: category\n",
              " Categories (10, interval[float64, right]): [(20.934, 27.6] < (27.6, 34.2] < (34.2, 40.8] <\n",
              "                                             (40.8, 47.4] ... (60.6, 67.2] < (67.2, 73.8] <\n",
              "                                             (73.8, 80.4] < (80.4, 87.0]],\n",
              " array([20.934, 27.6  , 34.2  , 40.8  , 47.4  , 54.   , 60.6  , 67.2  ,\n",
              "        73.8  , 80.4  , 87.   ]))"
            ]
          },
          "metadata": {},
          "execution_count": 19
        }
      ]
    },
    {
      "cell_type": "code",
      "source": [
        "pd.cut(trainDatax['AGE'],[20,25,30,35,40,45,50,60,70,75,80,85,90])"
      ],
      "metadata": {
        "colab": {
          "base_uri": "https://localhost:8080/"
        },
        "id": "tBKCpRoAwB19",
        "outputId": "36ec1683-bc9a-4200-e005-ae4d4f2e8832"
      },
      "execution_count": 20,
      "outputs": [
        {
          "output_type": "execute_result",
          "data": {
            "text/plain": [
              "0      (60, 70]\n",
              "1      (70, 75]\n",
              "2      (50, 60]\n",
              "3      (60, 70]\n",
              "4      (60, 70]\n",
              "         ...   \n",
              "270    (60, 70]\n",
              "272    (60, 70]\n",
              "277    (85, 90]\n",
              "280    (50, 60]\n",
              "282    (45, 50]\n",
              "Name: AGE, Length: 142, dtype: category\n",
              "Categories (12, interval[int64, right]): [(20, 25] < (25, 30] < (30, 35] < (35, 40] ... (70, 75] <\n",
              "                                          (75, 80] < (80, 85] < (85, 90]]"
            ]
          },
          "metadata": {},
          "execution_count": 20
        }
      ]
    },
    {
      "cell_type": "code",
      "source": [
        "trainDatax['AGE']=pd.cut(trainDatax['AGE'],[20,25,30,35,40,45,50,60,70,75,80,85,90])"
      ],
      "metadata": {
        "id": "_64rzPOCwiv5",
        "colab": {
          "base_uri": "https://localhost:8080/"
        },
        "outputId": "bd1123f8-2a5a-40a2-c7ea-aada23cf8e3f"
      },
      "execution_count": 21,
      "outputs": [
        {
          "output_type": "stream",
          "name": "stderr",
          "text": [
            "/usr/local/lib/python3.7/dist-packages/ipykernel_launcher.py:1: SettingWithCopyWarning: \n",
            "A value is trying to be set on a copy of a slice from a DataFrame.\n",
            "Try using .loc[row_indexer,col_indexer] = value instead\n",
            "\n",
            "See the caveats in the documentation: https://pandas.pydata.org/pandas-docs/stable/user_guide/indexing.html#returning-a-view-versus-a-copy\n",
            "  \"\"\"Entry point for launching an IPython kernel.\n"
          ]
        }
      ]
    },
    {
      "cell_type": "code",
      "source": [
        "#el primer dato \"69\" es la edad de la persona q esta en el intervalo 60-70\n",
        "trainDatax.head()"
      ],
      "metadata": {
        "colab": {
          "base_uri": "https://localhost:8080/",
          "height": 206
        },
        "id": "HJnA5MG5w354",
        "outputId": "8a773301-2ddc-4300-9f14-aae1e99cc2d4"
      },
      "execution_count": 22,
      "outputs": [
        {
          "output_type": "execute_result",
          "data": {
            "text/plain": [
              "        AGE  SMOKING  ALCOHOL CONSUMING\n",
              "0  (60, 70]        1                  2\n",
              "1  (70, 75]        2                  1\n",
              "2  (50, 60]        1                  1\n",
              "3  (60, 70]        2                  2\n",
              "4  (60, 70]        1                  1"
            ],
            "text/html": [
              "\n",
              "  <div id=\"df-605ed74c-f822-4577-8098-8133235f68d5\">\n",
              "    <div class=\"colab-df-container\">\n",
              "      <div>\n",
              "<style scoped>\n",
              "    .dataframe tbody tr th:only-of-type {\n",
              "        vertical-align: middle;\n",
              "    }\n",
              "\n",
              "    .dataframe tbody tr th {\n",
              "        vertical-align: top;\n",
              "    }\n",
              "\n",
              "    .dataframe thead th {\n",
              "        text-align: right;\n",
              "    }\n",
              "</style>\n",
              "<table border=\"1\" class=\"dataframe\">\n",
              "  <thead>\n",
              "    <tr style=\"text-align: right;\">\n",
              "      <th></th>\n",
              "      <th>AGE</th>\n",
              "      <th>SMOKING</th>\n",
              "      <th>ALCOHOL CONSUMING</th>\n",
              "    </tr>\n",
              "  </thead>\n",
              "  <tbody>\n",
              "    <tr>\n",
              "      <th>0</th>\n",
              "      <td>(60, 70]</td>\n",
              "      <td>1</td>\n",
              "      <td>2</td>\n",
              "    </tr>\n",
              "    <tr>\n",
              "      <th>1</th>\n",
              "      <td>(70, 75]</td>\n",
              "      <td>2</td>\n",
              "      <td>1</td>\n",
              "    </tr>\n",
              "    <tr>\n",
              "      <th>2</th>\n",
              "      <td>(50, 60]</td>\n",
              "      <td>1</td>\n",
              "      <td>1</td>\n",
              "    </tr>\n",
              "    <tr>\n",
              "      <th>3</th>\n",
              "      <td>(60, 70]</td>\n",
              "      <td>2</td>\n",
              "      <td>2</td>\n",
              "    </tr>\n",
              "    <tr>\n",
              "      <th>4</th>\n",
              "      <td>(60, 70]</td>\n",
              "      <td>1</td>\n",
              "      <td>1</td>\n",
              "    </tr>\n",
              "  </tbody>\n",
              "</table>\n",
              "</div>\n",
              "      <button class=\"colab-df-convert\" onclick=\"convertToInteractive('df-605ed74c-f822-4577-8098-8133235f68d5')\"\n",
              "              title=\"Convert this dataframe to an interactive table.\"\n",
              "              style=\"display:none;\">\n",
              "        \n",
              "  <svg xmlns=\"http://www.w3.org/2000/svg\" height=\"24px\"viewBox=\"0 0 24 24\"\n",
              "       width=\"24px\">\n",
              "    <path d=\"M0 0h24v24H0V0z\" fill=\"none\"/>\n",
              "    <path d=\"M18.56 5.44l.94 2.06.94-2.06 2.06-.94-2.06-.94-.94-2.06-.94 2.06-2.06.94zm-11 1L8.5 8.5l.94-2.06 2.06-.94-2.06-.94L8.5 2.5l-.94 2.06-2.06.94zm10 10l.94 2.06.94-2.06 2.06-.94-2.06-.94-.94-2.06-.94 2.06-2.06.94z\"/><path d=\"M17.41 7.96l-1.37-1.37c-.4-.4-.92-.59-1.43-.59-.52 0-1.04.2-1.43.59L10.3 9.45l-7.72 7.72c-.78.78-.78 2.05 0 2.83L4 21.41c.39.39.9.59 1.41.59.51 0 1.02-.2 1.41-.59l7.78-7.78 2.81-2.81c.8-.78.8-2.07 0-2.86zM5.41 20L4 18.59l7.72-7.72 1.47 1.35L5.41 20z\"/>\n",
              "  </svg>\n",
              "      </button>\n",
              "      \n",
              "  <style>\n",
              "    .colab-df-container {\n",
              "      display:flex;\n",
              "      flex-wrap:wrap;\n",
              "      gap: 12px;\n",
              "    }\n",
              "\n",
              "    .colab-df-convert {\n",
              "      background-color: #E8F0FE;\n",
              "      border: none;\n",
              "      border-radius: 50%;\n",
              "      cursor: pointer;\n",
              "      display: none;\n",
              "      fill: #1967D2;\n",
              "      height: 32px;\n",
              "      padding: 0 0 0 0;\n",
              "      width: 32px;\n",
              "    }\n",
              "\n",
              "    .colab-df-convert:hover {\n",
              "      background-color: #E2EBFA;\n",
              "      box-shadow: 0px 1px 2px rgba(60, 64, 67, 0.3), 0px 1px 3px 1px rgba(60, 64, 67, 0.15);\n",
              "      fill: #174EA6;\n",
              "    }\n",
              "\n",
              "    [theme=dark] .colab-df-convert {\n",
              "      background-color: #3B4455;\n",
              "      fill: #D2E3FC;\n",
              "    }\n",
              "\n",
              "    [theme=dark] .colab-df-convert:hover {\n",
              "      background-color: #434B5C;\n",
              "      box-shadow: 0px 1px 3px 1px rgba(0, 0, 0, 0.15);\n",
              "      filter: drop-shadow(0px 1px 2px rgba(0, 0, 0, 0.3));\n",
              "      fill: #FFFFFF;\n",
              "    }\n",
              "  </style>\n",
              "\n",
              "      <script>\n",
              "        const buttonEl =\n",
              "          document.querySelector('#df-605ed74c-f822-4577-8098-8133235f68d5 button.colab-df-convert');\n",
              "        buttonEl.style.display =\n",
              "          google.colab.kernel.accessAllowed ? 'block' : 'none';\n",
              "\n",
              "        async function convertToInteractive(key) {\n",
              "          const element = document.querySelector('#df-605ed74c-f822-4577-8098-8133235f68d5');\n",
              "          const dataTable =\n",
              "            await google.colab.kernel.invokeFunction('convertToInteractive',\n",
              "                                                     [key], {});\n",
              "          if (!dataTable) return;\n",
              "\n",
              "          const docLinkHtml = 'Like what you see? Visit the ' +\n",
              "            '<a target=\"_blank\" href=https://colab.research.google.com/notebooks/data_table.ipynb>data table notebook</a>'\n",
              "            + ' to learn more about interactive tables.';\n",
              "          element.innerHTML = '';\n",
              "          dataTable['output_type'] = 'display_data';\n",
              "          await google.colab.output.renderOutput(dataTable, element);\n",
              "          const docLink = document.createElement('div');\n",
              "          docLink.innerHTML = docLinkHtml;\n",
              "          element.appendChild(docLink);\n",
              "        }\n",
              "      </script>\n",
              "    </div>\n",
              "  </div>\n",
              "  "
            ]
          },
          "metadata": {},
          "execution_count": 22
        }
      ]
    },
    {
      "cell_type": "code",
      "source": [
        "#El método duplicado() devuelve una serie con valores verdaderos y falsos que describen qué filas en el marco de datos están duplicadas y cuáles no.\n",
        "# Utilice el parámetro de subconjunto para especificar si alguna columna no debe tenerse en cuenta al buscar duplicados.\n",
        "trainDatax.duplicated(keep=False)"
      ],
      "metadata": {
        "colab": {
          "base_uri": "https://localhost:8080/"
        },
        "id": "JEtfriD70lID",
        "outputId": "c30bedf9-a519-41ed-f7a6-48c0f23a1a8e"
      },
      "execution_count": 23,
      "outputs": [
        {
          "output_type": "execute_result",
          "data": {
            "text/plain": [
              "0       True\n",
              "1       True\n",
              "2       True\n",
              "3       True\n",
              "4       True\n",
              "       ...  \n",
              "270     True\n",
              "272     True\n",
              "277    False\n",
              "280     True\n",
              "282     True\n",
              "Length: 142, dtype: bool"
            ]
          },
          "metadata": {},
          "execution_count": 23
        }
      ]
    },
    {
      "cell_type": "code",
      "source": [
        "from pandas.core.arrays import categorical\n",
        "trainDatax.loc[:,'AGE'],categoriaSMOKING=pd.factorize(trainDatax['AGE'],sort=True)"
      ],
      "metadata": {
        "colab": {
          "base_uri": "https://localhost:8080/"
        },
        "id": "BxUiVszB1Qhb",
        "outputId": "18da3d22-57d9-4a14-96d3-57b3da1f13f4"
      },
      "execution_count": 24,
      "outputs": [
        {
          "output_type": "stream",
          "name": "stderr",
          "text": [
            "/usr/local/lib/python3.7/dist-packages/pandas/core/indexing.py:1773: SettingWithCopyWarning: \n",
            "A value is trying to be set on a copy of a slice from a DataFrame.\n",
            "Try using .loc[row_indexer,col_indexer] = value instead\n",
            "\n",
            "See the caveats in the documentation: https://pandas.pydata.org/pandas-docs/stable/user_guide/indexing.html#returning-a-view-versus-a-copy\n",
            "  self._setitem_single_column(ilocs[0], value, pi)\n"
          ]
        }
      ]
    },
    {
      "cell_type": "code",
      "source": [
        "trainDatax.loc[:,'SMOKING'],categoriAge=pd.factorize(trainDatax['SMOKING'],sort=True)\n",
        "categoriAge"
      ],
      "metadata": {
        "colab": {
          "base_uri": "https://localhost:8080/"
        },
        "id": "8LqGlS3S5hbg",
        "outputId": "15125c64-cae6-4b08-abdf-c548cca3fcc6"
      },
      "execution_count": 25,
      "outputs": [
        {
          "output_type": "stream",
          "name": "stderr",
          "text": [
            "/usr/local/lib/python3.7/dist-packages/pandas/core/indexing.py:1773: SettingWithCopyWarning: \n",
            "A value is trying to be set on a copy of a slice from a DataFrame.\n",
            "Try using .loc[row_indexer,col_indexer] = value instead\n",
            "\n",
            "See the caveats in the documentation: https://pandas.pydata.org/pandas-docs/stable/user_guide/indexing.html#returning-a-view-versus-a-copy\n",
            "  self._setitem_single_column(ilocs[0], value, pi)\n"
          ]
        },
        {
          "output_type": "execute_result",
          "data": {
            "text/plain": [
              "Int64Index([1, 2], dtype='int64')"
            ]
          },
          "metadata": {},
          "execution_count": 25
        }
      ]
    },
    {
      "cell_type": "code",
      "source": [
        "trainDatax.loc[:,'ALCOHOL CONSUMING'],categoriAge=pd.factorize(trainDatax['ALCOHOL CONSUMING'],sort=True)\n",
        "categoriAge"
      ],
      "metadata": {
        "colab": {
          "base_uri": "https://localhost:8080/"
        },
        "id": "0YxZtLOu-H4s",
        "outputId": "4ee24a94-4617-4e71-ab12-d0ae9b7f1513"
      },
      "execution_count": 26,
      "outputs": [
        {
          "output_type": "stream",
          "name": "stderr",
          "text": [
            "/usr/local/lib/python3.7/dist-packages/pandas/core/indexing.py:1773: SettingWithCopyWarning: \n",
            "A value is trying to be set on a copy of a slice from a DataFrame.\n",
            "Try using .loc[row_indexer,col_indexer] = value instead\n",
            "\n",
            "See the caveats in the documentation: https://pandas.pydata.org/pandas-docs/stable/user_guide/indexing.html#returning-a-view-versus-a-copy\n",
            "  self._setitem_single_column(ilocs[0], value, pi)\n"
          ]
        },
        {
          "output_type": "execute_result",
          "data": {
            "text/plain": [
              "Int64Index([1, 2], dtype='int64')"
            ]
          },
          "metadata": {},
          "execution_count": 26
        }
      ]
    },
    {
      "cell_type": "code",
      "source": [
        "# de aqui en adelante nos toca la normalización\n",
        "# 0 = 1  y 1  = 2 del anterior valor\n",
        "# No = 0 y Si = 1 \n",
        "trainDatax.head()"
      ],
      "metadata": {
        "colab": {
          "base_uri": "https://localhost:8080/",
          "height": 206
        },
        "id": "rVmnnKdT6FWI",
        "outputId": "3a4dfeca-df4a-4c5f-f424-a64744cfdd4a"
      },
      "execution_count": 27,
      "outputs": [
        {
          "output_type": "execute_result",
          "data": {
            "text/plain": [
              "   AGE  SMOKING  ALCOHOL CONSUMING\n",
              "0    5        0                  1\n",
              "1    6        1                  0\n",
              "2    4        0                  0\n",
              "3    5        1                  1\n",
              "4    5        0                  0"
            ],
            "text/html": [
              "\n",
              "  <div id=\"df-1c713a07-7afc-4eae-a762-7f2a7ac2ca72\">\n",
              "    <div class=\"colab-df-container\">\n",
              "      <div>\n",
              "<style scoped>\n",
              "    .dataframe tbody tr th:only-of-type {\n",
              "        vertical-align: middle;\n",
              "    }\n",
              "\n",
              "    .dataframe tbody tr th {\n",
              "        vertical-align: top;\n",
              "    }\n",
              "\n",
              "    .dataframe thead th {\n",
              "        text-align: right;\n",
              "    }\n",
              "</style>\n",
              "<table border=\"1\" class=\"dataframe\">\n",
              "  <thead>\n",
              "    <tr style=\"text-align: right;\">\n",
              "      <th></th>\n",
              "      <th>AGE</th>\n",
              "      <th>SMOKING</th>\n",
              "      <th>ALCOHOL CONSUMING</th>\n",
              "    </tr>\n",
              "  </thead>\n",
              "  <tbody>\n",
              "    <tr>\n",
              "      <th>0</th>\n",
              "      <td>5</td>\n",
              "      <td>0</td>\n",
              "      <td>1</td>\n",
              "    </tr>\n",
              "    <tr>\n",
              "      <th>1</th>\n",
              "      <td>6</td>\n",
              "      <td>1</td>\n",
              "      <td>0</td>\n",
              "    </tr>\n",
              "    <tr>\n",
              "      <th>2</th>\n",
              "      <td>4</td>\n",
              "      <td>0</td>\n",
              "      <td>0</td>\n",
              "    </tr>\n",
              "    <tr>\n",
              "      <th>3</th>\n",
              "      <td>5</td>\n",
              "      <td>1</td>\n",
              "      <td>1</td>\n",
              "    </tr>\n",
              "    <tr>\n",
              "      <th>4</th>\n",
              "      <td>5</td>\n",
              "      <td>0</td>\n",
              "      <td>0</td>\n",
              "    </tr>\n",
              "  </tbody>\n",
              "</table>\n",
              "</div>\n",
              "      <button class=\"colab-df-convert\" onclick=\"convertToInteractive('df-1c713a07-7afc-4eae-a762-7f2a7ac2ca72')\"\n",
              "              title=\"Convert this dataframe to an interactive table.\"\n",
              "              style=\"display:none;\">\n",
              "        \n",
              "  <svg xmlns=\"http://www.w3.org/2000/svg\" height=\"24px\"viewBox=\"0 0 24 24\"\n",
              "       width=\"24px\">\n",
              "    <path d=\"M0 0h24v24H0V0z\" fill=\"none\"/>\n",
              "    <path d=\"M18.56 5.44l.94 2.06.94-2.06 2.06-.94-2.06-.94-.94-2.06-.94 2.06-2.06.94zm-11 1L8.5 8.5l.94-2.06 2.06-.94-2.06-.94L8.5 2.5l-.94 2.06-2.06.94zm10 10l.94 2.06.94-2.06 2.06-.94-2.06-.94-.94-2.06-.94 2.06-2.06.94z\"/><path d=\"M17.41 7.96l-1.37-1.37c-.4-.4-.92-.59-1.43-.59-.52 0-1.04.2-1.43.59L10.3 9.45l-7.72 7.72c-.78.78-.78 2.05 0 2.83L4 21.41c.39.39.9.59 1.41.59.51 0 1.02-.2 1.41-.59l7.78-7.78 2.81-2.81c.8-.78.8-2.07 0-2.86zM5.41 20L4 18.59l7.72-7.72 1.47 1.35L5.41 20z\"/>\n",
              "  </svg>\n",
              "      </button>\n",
              "      \n",
              "  <style>\n",
              "    .colab-df-container {\n",
              "      display:flex;\n",
              "      flex-wrap:wrap;\n",
              "      gap: 12px;\n",
              "    }\n",
              "\n",
              "    .colab-df-convert {\n",
              "      background-color: #E8F0FE;\n",
              "      border: none;\n",
              "      border-radius: 50%;\n",
              "      cursor: pointer;\n",
              "      display: none;\n",
              "      fill: #1967D2;\n",
              "      height: 32px;\n",
              "      padding: 0 0 0 0;\n",
              "      width: 32px;\n",
              "    }\n",
              "\n",
              "    .colab-df-convert:hover {\n",
              "      background-color: #E2EBFA;\n",
              "      box-shadow: 0px 1px 2px rgba(60, 64, 67, 0.3), 0px 1px 3px 1px rgba(60, 64, 67, 0.15);\n",
              "      fill: #174EA6;\n",
              "    }\n",
              "\n",
              "    [theme=dark] .colab-df-convert {\n",
              "      background-color: #3B4455;\n",
              "      fill: #D2E3FC;\n",
              "    }\n",
              "\n",
              "    [theme=dark] .colab-df-convert:hover {\n",
              "      background-color: #434B5C;\n",
              "      box-shadow: 0px 1px 3px 1px rgba(0, 0, 0, 0.15);\n",
              "      filter: drop-shadow(0px 1px 2px rgba(0, 0, 0, 0.3));\n",
              "      fill: #FFFFFF;\n",
              "    }\n",
              "  </style>\n",
              "\n",
              "      <script>\n",
              "        const buttonEl =\n",
              "          document.querySelector('#df-1c713a07-7afc-4eae-a762-7f2a7ac2ca72 button.colab-df-convert');\n",
              "        buttonEl.style.display =\n",
              "          google.colab.kernel.accessAllowed ? 'block' : 'none';\n",
              "\n",
              "        async function convertToInteractive(key) {\n",
              "          const element = document.querySelector('#df-1c713a07-7afc-4eae-a762-7f2a7ac2ca72');\n",
              "          const dataTable =\n",
              "            await google.colab.kernel.invokeFunction('convertToInteractive',\n",
              "                                                     [key], {});\n",
              "          if (!dataTable) return;\n",
              "\n",
              "          const docLinkHtml = 'Like what you see? Visit the ' +\n",
              "            '<a target=\"_blank\" href=https://colab.research.google.com/notebooks/data_table.ipynb>data table notebook</a>'\n",
              "            + ' to learn more about interactive tables.';\n",
              "          element.innerHTML = '';\n",
              "          dataTable['output_type'] = 'display_data';\n",
              "          await google.colab.output.renderOutput(dataTable, element);\n",
              "          const docLink = document.createElement('div');\n",
              "          docLink.innerHTML = docLinkHtml;\n",
              "          element.appendChild(docLink);\n",
              "        }\n",
              "      </script>\n",
              "    </div>\n",
              "  </div>\n",
              "  "
            ]
          },
          "metadata": {},
          "execution_count": 27
        }
      ]
    },
    {
      "cell_type": "code",
      "source": [
        "#Normalizar los datos\n",
        "from sklearn.preprocessing import StandardScaler"
      ],
      "metadata": {
        "id": "SFZzpZLN6MIZ"
      },
      "execution_count": 28,
      "outputs": []
    },
    {
      "cell_type": "code",
      "source": [
        "scaler=StandardScaler()\n",
        "scaler.fit(trainDatax)\n",
        "print(scaler.mean_)"
      ],
      "metadata": {
        "id": "l1v_y7rF6QqB",
        "colab": {
          "base_uri": "https://localhost:8080/"
        },
        "outputId": "08bef5af-e7d4-4f6d-d99f-5fefa1bc375d"
      },
      "execution_count": 29,
      "outputs": [
        {
          ____________________________________
          "name"
          "text": [
            "[4.77464789 0.52112676 0.45774648]\n"
          ________________________________________
          ]
        }
      ]
    },
    {
      "cell_type": "code",
      "source": [
        "#se usa en los datos de entrenamiento para que podamos escalar los datos de entrenamiento y\n",
        "# también aprender los parámetros de escala de esos datos. Aquí, el modelo construido por nosotros aprenderá la media y la varianza de las características del conjunto de entrenamiento.\n",
        "# Estos parámetros aprendidos se utilizan luego para escalar nuestros datos de prueba.\n",
        "trainDatax=scaler.fit_transform(trainDatax)\n",
        "trainDatax"
      ],
      "metadata": {
        "id": "Zw1POoMp6r1e",
        "outputId": "d59bf9b8-5012-4323-cfb6-3f86910f4d03",
        "colab": {
          "base_uri": "https://localhost:8080/"
        }
      },
      "execution_count": 30,
      "outputs": [
        {
          "output_type": "execute_result",
          "data": {
            "text/plain": [
              "array([[ 0.17305642, -1.04318517,  1.08840038],\n",
              "       [ 0.94099431,  0.95860259, -0.91877954],\n",
              "       [-0.59488146, -1.04318517, -0.91877954],\n",
              "       [ 0.17305642,  0.95860259,  1.08840038],\n",
              "       [ 0.17305642, -1.04318517, -0.91877954],\n",
              "       [ 0.94099431, -1.04318517, -0.91877954],\n",
              "       [-0.59488146,  0.95860259,  1.08840038],\n",
              "       [-0.59488146,  0.95860259, -0.91877954],\n",
              "       [ 0.17305642,  0.95860259, -0.91877954],\n",
              "       [-0.59488146,  0.95860259,  1.08840038],\n",
              "       [ 0.17305642,  0.95860259, -0.91877954],\n",
              "       [ 0.94099431, -1.04318517,  1.08840038],\n",
              "       [-0.59488146,  0.95860259, -0.91877954],\n",
              "       [-0.59488146,  0.95860259,  1.08840038],\n",
              "       [ 0.17305642,  0.95860259,  1.08840038],\n",
              "       [-1.36281934, -1.04318517, -0.91877954],\n",
              "       [ 0.94099431,  0.95860259,  1.08840038],\n",
              "       [-0.59488146,  0.95860259,  1.08840038],\n",
              "       [ 0.17305642,  0.95860259, -0.91877954],\n",
              "       [ 0.17305642, -1.04318517, -0.91877954],\n",
              "       [-2.13075722,  0.95860259, -0.91877954],\n",
              "       [ 0.17305642, -1.04318517, -0.91877954],\n",
              "       [-3.66663299,  0.95860259, -0.91877954],\n",
              "       [-0.59488146,  0.95860259,  1.08840038],\n",
              "       [ 0.94099431,  0.95860259,  1.08840038],\n",
              "       [ 0.17305642, -1.04318517,  1.08840038],\n",
              "       [ 0.17305642,  0.95860259,  1.08840038],\n",
              "       [ 0.17305642, -1.04318517, -0.91877954],\n",
              "       [-0.59488146, -1.04318517,  1.08840038],\n",
              "       [-0.59488146,  0.95860259, -0.91877954],\n",
              "       [ 0.17305642,  0.95860259,  1.08840038],\n",
              "       [-0.59488146,  0.95860259, -0.91877954],\n",
              "       [ 0.17305642,  0.95860259, -0.91877954],\n",
              "       [-0.59488146,  0.95860259, -0.91877954],\n",
              "       [-0.59488146, -1.04318517, -0.91877954],\n",
              "       [-0.59488146, -1.04318517, -0.91877954],\n",
              "       [-0.59488146,  0.95860259, -0.91877954],\n",
              "       [ 0.17305642,  0.95860259,  1.08840038],\n",
              "       [ 0.17305642, -1.04318517,  1.08840038],\n",
              "       [ 1.70893219, -1.04318517,  1.08840038],\n",
              "       [ 0.17305642,  0.95860259,  1.08840038],\n",
              "       [ 0.17305642,  0.95860259, -0.91877954],\n",
              "       [ 0.17305642,  0.95860259,  1.08840038],\n",
              "       [ 0.17305642, -1.04318517,  1.08840038],\n",
              "       [-0.59488146, -1.04318517,  1.08840038],\n",
              "       [-0.59488146, -1.04318517,  1.08840038],\n",
              "       [ 0.17305642,  0.95860259, -0.91877954],\n",
              "       [-0.59488146,  0.95860259,  1.08840038],\n",
              "       [-1.36281934,  0.95860259,  1.08840038],\n",
              "       [-0.59488146, -1.04318517,  1.08840038],\n",
              "       [-0.59488146, -1.04318517,  1.08840038],\n",
              "       [ 0.17305642, -1.04318517, -0.91877954],\n",
              "       [ 0.94099431, -1.04318517,  1.08840038],\n",
              "       [-1.36281934, -1.04318517, -0.91877954],\n",
              "       [ 0.17305642,  0.95860259,  1.08840038],\n",
              "       [-0.59488146, -1.04318517, -0.91877954],\n",
              "       [ 0.17305642, -1.04318517,  1.08840038],\n",
              "       [ 0.94099431, -1.04318517,  1.08840038],\n",
              "       [ 0.94099431,  0.95860259, -0.91877954],\n",
              "       [-0.59488146, -1.04318517, -0.91877954],\n",
              "       [ 0.17305642,  0.95860259,  1.08840038],\n",
              "       [ 1.70893219,  0.95860259, -0.91877954],\n",
              "       [ 1.70893219,  0.95860259, -0.91877954],\n",
              "       [ 0.17305642,  0.95860259, -0.91877954],\n",
              "       [ 0.17305642, -1.04318517,  1.08840038],\n",
              "       [-0.59488146,  0.95860259, -0.91877954],\n",
              "       [ 1.70893219, -1.04318517, -0.91877954],\n",
              "       [-0.59488146,  0.95860259,  1.08840038],\n",
              "       [ 0.17305642,  0.95860259,  1.08840038],\n",
              "       [ 0.94099431,  0.95860259, -0.91877954],\n",
              "       [-0.59488146, -1.04318517, -0.91877954],\n",
              "       [-0.59488146,  0.95860259, -0.91877954],\n",
              "       [ 2.47687007, -1.04318517,  1.08840038],\n",
              "       [-0.59488146, -1.04318517,  1.08840038],\n",
              "       [ 0.17305642, -1.04318517,  1.08840038],\n",
              "       [ 0.17305642, -1.04318517, -0.91877954],\n",
              "       [-0.59488146,  0.95860259,  1.08840038],\n",
              "       [ 0.17305642, -1.04318517,  1.08840038],\n",
              "       [ 0.94099431, -1.04318517, -0.91877954],\n",
              "       [-0.59488146, -1.04318517,  1.08840038],\n",
              "       [-1.36281934,  0.95860259,  1.08840038],\n",
              "       [-0.59488146,  0.95860259,  1.08840038],\n",
              "       [ 2.47687007, -1.04318517, -0.91877954],\n",
              "       [ 0.94099431,  0.95860259, -0.91877954],\n",
              "       [-1.36281934, -1.04318517,  1.08840038],\n",
              "       [-0.59488146, -1.04318517,  1.08840038],\n",
              "       [-0.59488146, -1.04318517,  1.08840038],\n",
              "       [ 0.17305642, -1.04318517, -0.91877954],\n",
              "       [ 0.94099431, -1.04318517, -0.91877954],\n",
              "       [ 1.70893219,  0.95860259, -0.91877954],\n",
              "       [ 0.17305642, -1.04318517,  1.08840038],\n",
              "       [-0.59488146,  0.95860259, -0.91877954],\n",
              "       [-0.59488146, -1.04318517, -0.91877954],\n",
              "       [-0.59488146,  0.95860259,  1.08840038],\n",
              "       [-0.59488146,  0.95860259, -0.91877954],\n",
              "       [ 0.17305642, -1.04318517, -0.91877954],\n",
              "       [ 1.70893219,  0.95860259,  1.08840038],\n",
              "       [ 0.94099431,  0.95860259,  1.08840038],\n",
              "       [ 0.17305642, -1.04318517, -0.91877954],\n",
              "       [-1.36281934,  0.95860259, -0.91877954],\n",
              "       [ 0.17305642,  0.95860259, -0.91877954],\n",
              "       [-0.59488146, -1.04318517,  1.08840038],\n",
              "       [ 0.17305642,  0.95860259, -0.91877954],\n",
              "       [ 0.17305642,  0.95860259, -0.91877954],\n",
              "       [ 0.94099431,  0.95860259, -0.91877954],\n",
              "       [-1.36281934,  0.95860259, -0.91877954],\n",
              "       [ 0.17305642, -1.04318517,  1.08840038],\n",
              "       [-0.59488146, -1.04318517,  1.08840038],\n",
              "       [ 0.94099431,  0.95860259,  1.08840038],\n",
              "       [ 0.94099431, -1.04318517,  1.08840038],\n",
              "       [-2.13075722, -1.04318517, -0.91877954],\n",
              "       [-0.59488146, -1.04318517,  1.08840038],\n",
              "       [-0.59488146, -1.04318517, -0.91877954],\n",
              "       [ 0.17305642, -1.04318517, -0.91877954],\n",
              "       [ 0.17305642,  0.95860259,  1.08840038],\n",
              "       [ 0.94099431, -1.04318517,  1.08840038],\n",
              "       [ 0.94099431,  0.95860259, -0.91877954],\n",
              "       [ 1.70893219,  0.95860259,  1.08840038],\n",
              "       [-0.59488146,  0.95860259, -0.91877954],\n",
              "       [ 0.17305642, -1.04318517, -0.91877954],\n",
              "       [-0.59488146, -1.04318517, -0.91877954],\n",
              "       [ 0.94099431,  0.95860259,  1.08840038],\n",
              "       [ 1.70893219,  0.95860259,  1.08840038],\n",
              "       [ 0.17305642,  0.95860259, -0.91877954],\n",
              "       [ 1.70893219, -1.04318517, -0.91877954],\n",
              "       [ 0.17305642, -1.04318517, -0.91877954],\n",
              "       [ 0.17305642, -1.04318517,  1.08840038],\n",
              "       [ 1.70893219, -1.04318517, -0.91877954],\n",
              "       [-1.36281934, -1.04318517, -0.91877954],\n",
              "       [-2.89869511, -1.04318517, -0.91877954],\n",
              "       [ 0.17305642,  0.95860259, -0.91877954],\n",
              "       [ 0.17305642, -1.04318517,  1.08840038],\n",
              "       [ 0.17305642,  0.95860259, -0.91877954],\n",
              "       [ 0.17305642,  0.95860259, -0.91877954],\n",
              "       [-2.89869511,  0.95860259,  1.08840038],\n",
              "       [ 0.17305642, -1.04318517, -0.91877954],\n",
              "       [-0.59488146,  0.95860259, -0.91877954],\n",
              "       [ 0.17305642,  0.95860259, -0.91877954],\n",
              "       [ 0.17305642,  0.95860259,  1.08840038],\n",
              "       [ 3.24480795, -1.04318517, -0.91877954],\n",
              "       [-0.59488146,  0.95860259, -0.91877954],\n",
              "       [-1.36281934, -1.04318517, -0.91877954]])"
            ]
          },
          "metadata": {},
          "execution_count": 30
        }
      ]
    },
    {
      "cell_type": "code",
      "source": [
        "#El método de transformación devuelve el número especificado de componentes principales.\n",
        "from sklearn.decomposition import PCA"
      ],
      "metadata": {
        "id": "yLH6u-dd_ms1"
      },
      "execution_count": 31,
      "outputs": []
    },
    {
      "cell_type": "code",
      "source": [
        "# El parámetro pca.explained_variance_ratio_ devuelve un vector de la varianza explicada por cada dimensión.\n",
        "pca = PCA(n_components=3)\n",
        "pca.fit(trainDatax)\n",
        "print(pca.explained_variance_ratio_) "
      ],
      "metadata": {
        "id": "9LN8omTgAKC2",
        "outputId": "e9e4d6ae-a462-41dc-e811-f1d8f7670b73",
        "colab": {
          "base_uri": "https://localhost:8080/"
        }
      },
      "execution_count": 32,
      "outputs": [
        {
          "output_type": "stream",
          "name": "stdout",
          "text": [
            "[0.35574508 0.32516204 0.31909288]\n"
          ]
        }
      ]
    },
    {
      "cell_type": "code",
      "source": [
        "print(trainDatax, trainDatay)"
      ],
      "metadata": {
        "id": "_hw2lodrBP03",
        "colab": {
          "base_uri": "https://localhost:8080/"
        },
        "outputId": "ac709f3c-7c3b-4d5d-e29d-dcbc9902b27b"
      },
      "execution_count": 33,
      "outputs": [
        {
          "output_type": "stream",
          "name": "stdout",
          "text": [
            "[[ 0.17305642 -1.04318517  1.08840038]\n",
            " [ 0.94099431  0.95860259 -0.91877954]\n",
            " [-0.59488146 -1.04318517 -0.91877954]\n",
            " [ 0.17305642  0.95860259  1.08840038]\n",
            " [ 0.17305642 -1.04318517 -0.91877954]\n",
            " [ 0.94099431 -1.04318517 -0.91877954]\n",
            " [-0.59488146  0.95860259  1.08840038]\n",
            " [-0.59488146  0.95860259 -0.91877954]\n",
            " [ 0.17305642  0.95860259 -0.91877954]\n",
            " [-0.59488146  0.95860259  1.08840038]\n",
            " [ 0.17305642  0.95860259 -0.91877954]\n",
            " [ 0.94099431 -1.04318517  1.08840038]\n",
            " [-0.59488146  0.95860259 -0.91877954]\n",
            " [-0.59488146  0.95860259  1.08840038]\n",
            " [ 0.17305642  0.95860259  1.08840038]\n",
            " [-1.36281934 -1.04318517 -0.91877954]\n",
            " [ 0.94099431  0.95860259  1.08840038]\n",
            " [-0.59488146  0.95860259  1.08840038]\n",
            " [ 0.17305642  0.95860259 -0.91877954]\n",
            " [ 0.17305642 -1.04318517 -0.91877954]\n",
            " [-2.13075722  0.95860259 -0.91877954]\n",
            " [ 0.17305642 -1.04318517 -0.91877954]\n",
            " [-3.66663299  0.95860259 -0.91877954]\n",
            " [-0.59488146  0.95860259  1.08840038]\n",
            " [ 0.94099431  0.95860259  1.08840038]\n",
            " [ 0.17305642 -1.04318517  1.08840038]\n",
            " [ 0.17305642  0.95860259  1.08840038]\n",
            " [ 0.17305642 -1.04318517 -0.91877954]\n",
            " [-0.59488146 -1.04318517  1.08840038]\n",
            " [-0.59488146  0.95860259 -0.91877954]\n",
            " [ 0.17305642  0.95860259  1.08840038]\n",
            " [-0.59488146  0.95860259 -0.91877954]\n",
            " [ 0.17305642  0.95860259 -0.91877954]\n",
            " [-0.59488146  0.95860259 -0.91877954]\n",
            " [-0.59488146 -1.04318517 -0.91877954]\n",
            " [-0.59488146 -1.04318517 -0.91877954]\n",
            " [-0.59488146  0.95860259 -0.91877954]\n",
            " [ 0.17305642  0.95860259  1.08840038]\n",
            " [ 0.17305642 -1.04318517  1.08840038]\n",
            " [ 1.70893219 -1.04318517  1.08840038]\n",
            " [ 0.17305642  0.95860259  1.08840038]\n",
            " [ 0.17305642  0.95860259 -0.91877954]\n",
            " [ 0.17305642  0.95860259  1.08840038]\n",
            " [ 0.17305642 -1.04318517  1.08840038]\n",
            " [-0.59488146 -1.04318517  1.08840038]\n",
            " [-0.59488146 -1.04318517  1.08840038]\n",
            " [ 0.17305642  0.95860259 -0.91877954]\n",
            " [-0.59488146  0.95860259  1.08840038]\n",
            " [-1.36281934  0.95860259  1.08840038]\n",
            " [-0.59488146 -1.04318517  1.08840038]\n",
            " [-0.59488146 -1.04318517  1.08840038]\n",
            " [ 0.17305642 -1.04318517 -0.91877954]\n",
            " [ 0.94099431 -1.04318517  1.08840038]\n",
            " [-1.36281934 -1.04318517 -0.91877954]\n",
            " [ 0.17305642  0.95860259  1.08840038]\n",
            " [-0.59488146 -1.04318517 -0.91877954]\n",
            " [ 0.17305642 -1.04318517  1.08840038]\n",
            " [ 0.94099431 -1.04318517  1.08840038]\n",
            " [ 0.94099431  0.95860259 -0.91877954]\n",
            " [-0.59488146 -1.04318517 -0.91877954]\n",
            " [ 0.17305642  0.95860259  1.08840038]\n",
            " [ 1.70893219  0.95860259 -0.91877954]\n",
            " [ 1.70893219  0.95860259 -0.91877954]\n",
            " [ 0.17305642  0.95860259 -0.91877954]\n",
            " [ 0.17305642 -1.04318517  1.08840038]\n",
            " [-0.59488146  0.95860259 -0.91877954]\n",
            " [ 1.70893219 -1.04318517 -0.91877954]\n",
            " [-0.59488146  0.95860259  1.08840038]\n",
            " [ 0.17305642  0.95860259  1.08840038]\n",
            " [ 0.94099431  0.95860259 -0.91877954]\n",
            " [-0.59488146 -1.04318517 -0.91877954]\n",
            " [-0.59488146  0.95860259 -0.91877954]\n",
            " [ 2.47687007 -1.04318517  1.08840038]\n",
            " [-0.59488146 -1.04318517  1.08840038]\n",
            " [ 0.17305642 -1.04318517  1.08840038]\n",
            " [ 0.17305642 -1.04318517 -0.91877954]\n",
            " [-0.59488146  0.95860259  1.08840038]\n",
            " [ 0.17305642 -1.04318517  1.08840038]\n",
            " [ 0.94099431 -1.04318517 -0.91877954]\n",
            " [-0.59488146 -1.04318517  1.08840038]\n",
            " [-1.36281934  0.95860259  1.08840038]\n",
            " [-0.59488146  0.95860259  1.08840038]\n",
            " [ 2.47687007 -1.04318517 -0.91877954]\n",
            " [ 0.94099431  0.95860259 -0.91877954]\n",
            " [-1.36281934 -1.04318517  1.08840038]\n",
            " [-0.59488146 -1.04318517  1.08840038]\n",
            " [-0.59488146 -1.04318517  1.08840038]\n",
            " [ 0.17305642 -1.04318517 -0.91877954]\n",
            " [ 0.94099431 -1.04318517 -0.91877954]\n",
            " [ 1.70893219  0.95860259 -0.91877954]\n",
            " [ 0.17305642 -1.04318517  1.08840038]\n",
            " [-0.59488146  0.95860259 -0.91877954]\n",
            " [-0.59488146 -1.04318517 -0.91877954]\n",
            " [-0.59488146  0.95860259  1.08840038]\n",
            " [-0.59488146  0.95860259 -0.91877954]\n",
            " [ 0.17305642 -1.04318517 -0.91877954]\n",
            " [ 1.70893219  0.95860259  1.08840038]\n",
            " [ 0.94099431  0.95860259  1.08840038]\n",
            " [ 0.17305642 -1.04318517 -0.91877954]\n",
            " [-1.36281934  0.95860259 -0.91877954]\n",
            " [ 0.17305642  0.95860259 -0.91877954]\n",
            " [-0.59488146 -1.04318517  1.08840038]\n",
            " [ 0.17305642  0.95860259 -0.91877954]\n",
            " [ 0.17305642  0.95860259 -0.91877954]\n",
            " [ 0.94099431  0.95860259 -0.91877954]\n",
            " [-1.36281934  0.95860259 -0.91877954]\n",
            " [ 0.17305642 -1.04318517  1.08840038]\n",
            " [-0.59488146 -1.04318517  1.08840038]\n",
            " [ 0.94099431  0.95860259  1.08840038]\n",
            " [ 0.94099431 -1.04318517  1.08840038]\n",
            " [-2.13075722 -1.04318517 -0.91877954]\n",
            " [-0.59488146 -1.04318517  1.08840038]\n",
            " [-0.59488146 -1.04318517 -0.91877954]\n",
            " [ 0.17305642 -1.04318517 -0.91877954]\n",
            " [ 0.17305642  0.95860259  1.08840038]\n",
            " [ 0.94099431 -1.04318517  1.08840038]\n",
            " [ 0.94099431  0.95860259 -0.91877954]\n",
            " [ 1.70893219  0.95860259  1.08840038]\n",
            " [-0.59488146  0.95860259 -0.91877954]\n",
            " [ 0.17305642 -1.04318517 -0.91877954]\n",
            " [-0.59488146 -1.04318517 -0.91877954]\n",
            " [ 0.94099431  0.95860259  1.08840038]\n",
            " [ 1.70893219  0.95860259  1.08840038]\n",
            " [ 0.17305642  0.95860259 -0.91877954]\n",
            " [ 1.70893219 -1.04318517 -0.91877954]\n",
            " [ 0.17305642 -1.04318517 -0.91877954]\n",
            " [ 0.17305642 -1.04318517  1.08840038]\n",
            " [ 1.70893219 -1.04318517 -0.91877954]\n",
            " [-1.36281934 -1.04318517 -0.91877954]\n",
            " [-2.89869511 -1.04318517 -0.91877954]\n",
            " [ 0.17305642  0.95860259 -0.91877954]\n",
            " [ 0.17305642 -1.04318517  1.08840038]\n",
            " [ 0.17305642  0.95860259 -0.91877954]\n",
            " [ 0.17305642  0.95860259 -0.91877954]\n",
            " [-2.89869511  0.95860259  1.08840038]\n",
            " [ 0.17305642 -1.04318517 -0.91877954]\n",
            " [-0.59488146  0.95860259 -0.91877954]\n",
            " [ 0.17305642  0.95860259 -0.91877954]\n",
            " [ 0.17305642  0.95860259  1.08840038]\n",
            " [ 3.24480795 -1.04318517 -0.91877954]\n",
            " [-0.59488146  0.95860259 -0.91877954]\n",
            " [-1.36281934 -1.04318517 -0.91877954]]      LUNG_CANCER\n",
            "0              1\n",
            "1              1\n",
            "2              0\n",
            "3              0\n",
            "4              0\n",
            "..           ...\n",
            "270            0\n",
            "272            0\n",
            "277            0\n",
            "280            0\n",
            "282            0\n",
            "\n",
            "[142 rows x 1 columns]\n"
          ]
        }
      ]
    },
    {
      "cell_type": "code",
      "source": [
        "import numpy as np\n",
        "from sklearn.model_selection import train_test_split"
      ],
      "metadata": {
        "id": "8bEFkz0vGZ5P"
      },
      "execution_count": 34,
      "outputs": []
    },
    {
      "cell_type": "code",
      "source": [
        "trainDatay=trainDatay.to_numpy()\n",
        "x_train, x_test, y_train, y_test= train_test_split(trainDatax, trainDatay, test_size=0.3)"
      ],
      "metadata": {
        "id": "bWi8vwNGGs4t"
      },
      "execution_count": 35,
      "outputs": []
    },
    {
      "cell_type": "code",
      "source": [
        "print(x_train[0:5], x_test[0:5], y_train[0:5], y_test[0:5])"
      ],
      "metadata": {
        "id": "JtJtB13SG8n0",
        "outputId": "9190331f-f5f0-4262-ab99-df4c2f204142",
        "colab": {
          "base_uri": "https://localhost:8080/"
        }
      },
      "execution_count": 36,
      "outputs": [
        {
          "output_type": "stream",
          "name": "stdout",
          "text": [
            "[[-2.89869511 -1.04318517 -0.91877954]\n",
            " [-0.59488146 -1.04318517  1.08840038]\n",
            " [ 0.94099431  0.95860259 -0.91877954]\n",
            " [-2.89869511  0.95860259  1.08840038]\n",
            " [ 0.17305642  0.95860259  1.08840038]] [[ 0.17305642  0.95860259 -0.91877954]\n",
            " [ 0.17305642 -1.04318517 -0.91877954]\n",
            " [-1.36281934 -1.04318517 -0.91877954]\n",
            " [ 0.94099431  0.95860259 -0.91877954]\n",
            " [-2.13075722  0.95860259 -0.91877954]] [[1]\n",
            " [1]\n",
            " [1]\n",
            " [1]\n",
            " [1]] [[1]\n",
            " [1]\n",
            " [1]\n",
            " [1]\n",
            " [1]]\n"
          ]
        }
      ]
    },
    {
      "cell_type": "code",
      "source": [
        "def sigmoide(x):\n",
        "  return (1.0/(1.0+np.exp(-x)))\n",
        "def derivada(x):\n",
        "  return sigmoide(x)*(1.0-sigmoide(x))\n",
        "\n",
        "def neurona(entrada, pesosCO1, tendenciasC01, pesosCO2, tendenciasCO2, pesosCO3,\n",
        "            tendenciasCO3, pesosCO4, tendenciasCO4, pesosCO5, tendenciasCO5, pesosCO6, tendenciasCO6,pesosCS, tendenciasCS):\n",
        "  \n",
        "  entradaNetaC1=np.dot(pesosCO1, np.transpose(entrada))-tendenciasC01\n",
        "  salidaC1=sigmoide(entradaNetaC1)\n",
        "\n",
        "  entradaNetaC2 = np.dot(pesosCO2,salidaC1)-tendenciasCO2\n",
        "  salidaC2=sigmoide(entradaNetaC2)\n",
        "\n",
        "  entradaNetaC3 = np.dot(pesosCO3,salidaC2)-tendenciasCO3\n",
        "  salidaC3=sigmoide(entradaNetaC3)\n",
        "\n",
        "  entradaNetaC4 = np.dot(pesosCO4,salidaC3)-tendenciasCO4\n",
        "  salidaC4=sigmoide(entradaNetaC4)\n",
        "\n",
        "  entradaNetaC5 = np.dot(pesosCO5,salidaC4)-tendenciasCO5\n",
        "  salidaC5=sigmoide(entradaNetaC5)\n",
        "\n",
        "  entradaNetaC6 = np.dot(pesosCO6,salidaC5)-tendenciasCO6\n",
        "  salidaC6=sigmoide(entradaNetaC6)\n",
        "\n",
        "  entradaNetaCS = np.dot(pesosCS,salidaC6)-tendenciasCS\n",
        "  salida=sigmoide(entradaNetaCS)\n",
        "\n",
        "  return salida, entradaNetaCS, entradaNetaC6, entradaNetaC5, entradaNetaC4, entradaNetaC3, entradaNetaC2, entradaNetaC1\n",
        "# el algoritmo recibe\n",
        "# FacorAprendizaje: que tanto se permite el cambio en los pesos w(t) = e*error'f'(neta)*xj\n",
        "# error: un valor de error que permitimos\n",
        "# entradas: el conjunto de entradas que se van a trabajar \n",
        "# salidas: salidas esperadas\n",
        "# max-it: el numero de iteraciones que permitimos\n",
        "# alpha: el valor de incremento del factor de aprendzaje\n",
        "# rho: El valor de decremento del factor de aprendizaje\n",
        "# neuronasC1: numero de neuronas en la capa oculta 1\n",
        "# neuronasC2: numero de neuronas en la capa oculta 2\n",
        "# neuronasC3: numero de neuronas en la capa oculta 3\n",
        "# neuronasC4: numero de neuronas en la capa oculta 4\n",
        "# neuronasC4: numero de neuronas en la capa oculta 5\n",
        "# neuronasC4: numero de neuronas en la capa oculta 6\n",
        "def backpropagation(entradas, salidas,factorAprendizaje, error, max_it, alpha, rho, neuronasC1, neuronasC2, neuronasC3, neuronasC4, neuronasC5, neuronasC6):\n",
        "\n",
        "  # tiene 6 neuronas y como 3 ENTRADAS entradas tenemos una matriz de 6x3\n",
        "  pesosCO1=2*np.random.rand(neuronasC1,entradas.shape[1])-1\n",
        "  tendenciasC1=2*np.random.rand(neuronasC1)-1\n",
        "\n",
        "  # pesos capa oculta 2\n",
        "  # la capa oculta 2 tiene 2 neuronas y recive las salidas de 5 neuronas en la capa oculta 1\n",
        "  pesosCO2=2*np.random.rand(neuronasC2,neuronasC1)-1\n",
        "  tendenciasC2=2*np.random.rand(neuronasC2)-1\n",
        "\n",
        "  # capa oculta 3\n",
        "  pesosCO3=2*np.random.rand(neuronasC3,neuronasC2)-1\n",
        "  tendenciasC3=2*np.random.rand(neuronasC3)-1\n",
        "\n",
        "    # capa oculta 4\n",
        "  pesosCO4=2*np.random.rand(neuronasC4,neuronasC3)-1\n",
        "  tendenciasC4=2*np.random.rand(neuronasC4)-1\n",
        "\n",
        "  # capa oculta 5\n",
        "  pesosCO5=2*np.random.rand(neuronasC5,neuronasC4)-1\n",
        "  tendenciasC5=2*np.random.rand(neuronasC5)-1\n",
        "\n",
        "   # capa oculta 6\n",
        "  pesosCO6=2*np.random.rand(neuronasC6,neuronasC5)-1\n",
        "  tendenciasC6=2*np.random.rand(neuronasC6)-1\n",
        "\n",
        "  # Generamos los pesos de la capa de salida, 1 salida (1 neurona) y tenemos 2 entradas que vienen de la capa oculta 2\n",
        "  pesosCS = 2*np.random.rand(neuronasC6)-1\n",
        "  tendenciasCS=2*np.random.rand(1)-1\n",
        "  it=0\n",
        "  errorVec=[]\n",
        "  errorAnt=float('inf')\n",
        "  while(it<max_it):\n",
        "    it+=1\n",
        "    errorIt=0\n",
        "    for i in range(0, entradas.shape[0]):\n",
        "      ent=entradas[i]\n",
        "      t=salidas[i]\n",
        "      y,entradaNetaCS, entradaNetaC6,entradaNetaC5, entradaNetaC4, entradaNetaC3, entradaNetaC2, entradaNetaC1=neurona(\n",
        "          ent, pesosCO1, tendenciasC1, pesosCO2, tendenciasC2, pesosCO3, tendenciasC3, pesosCO4, tendenciasC4, pesosCO5, tendenciasC5, pesosCO6, tendenciasC6, pesosCS, tendenciasCS\n",
        "        )\n",
        "\n",
        "      errorIt+=np.power(t-y,2)/2.0\n",
        "\n",
        "    errorVec.append(errorIt)\n",
        "    for i in range(0, entradas.shape[0]):\n",
        "      ent=entradas[i]\n",
        "      t=salidas[i]\n",
        "      y, entradaNetaCS, entradaNetaC6,entradaNetaC5, entradaNetaC4, entradaNetaC3, entradaNetaC2, entradaNetaC1 = neurona(\n",
        "          ent, pesosCO1, tendenciasC1, pesosCO2, tendenciasC2, pesosCO3, tendenciasC3, pesosCO4, tendenciasC4, pesosCO5, tendenciasC5, pesosCO6, tendenciasC6, pesosCS, tendenciasCS\n",
        "      )\n",
        "\n",
        "      # calcular el error en la capa salida\n",
        "      errorCS=(t-y)*derivada(entradaNetaCS)\n",
        "\n",
        "      # calcular la capa oculta 6------------------------------------------------------------------------------------------------------------------------------\n",
        "      errorC6=0\n",
        "      for j in range(0,pesosCS.shape[0]):\n",
        "        errorC6+=pesosCS[j]*errorCS*derivada(entradaNetaC6[j])\n",
        "\n",
        "      # calcular el error  capa oculta 5------------------------------------------------------------------------------------------------------------------------------\n",
        "      errorC5=0\n",
        "      for j in range(0,pesosCO6.shape[0]):\n",
        "        for k in range(0, pesosCO6.shape[1]):\n",
        "          errorC5 += pesosCO6[j][k]*errorC6*derivada(entradaNetaC5[k])\n",
        "\n",
        "      # calcular el error  capa oculta 4------------------------------------------------------------------------------------------------------------------------------\n",
        "      errorC4=0\n",
        "      for j in range(0,pesosCO5.shape[0]):\n",
        "        for k in range(0, pesosCO5.shape[1]):\n",
        "          errorC4 += pesosCO5[j][k]*errorC5*derivada(entradaNetaC4[k])\n",
        "      # calcular el error capa oculta 3\n",
        "      errorC3=0\n",
        "      for j in range(0,pesosCO4.shape[0]):\n",
        "        for k in range(0, pesosCO4.shape[1]):\n",
        "          errorC3 += pesosCO4[j][k]*errorC4*derivada(entradaNetaC3[k])\n",
        "\n",
        "      #calcular el error capa oculta 2\n",
        "      errorC2=0\n",
        "      for j in range(0,pesosCO3.shape[0]):\n",
        "        for k in range(0, pesosCO3.shape[1]):\n",
        "          errorC2 += pesosCO3[j][k]*errorC3*derivada(entradaNetaC2[k])\n",
        "\n",
        "      #Calcular el error de la capa oculta 1\n",
        "      errorC1=0\n",
        "      for j in range(0, pesosCO2.shape[0]):\n",
        "        for k in range(0, pesosCO2.shape[1]):\n",
        "          errorC1 += pesosCO2[j][k]*errorC2*derivada(entradaNetaC1[k])\n",
        "\n",
        "      # actualiza pesos\n",
        "      # cada salida\n",
        "      for j in range(0, pesosCS.shape[0]):\n",
        "        pesosCS[j]+=factorAprendizaje*errorCS*entradaNetaCS\n",
        "\n",
        "      #Actualizar las tendencias\n",
        "      for j in range(0,tendenciasCS.shape[0]):\n",
        "        tendenciasCS[j]+=factorAprendizaje*errorCS*(-1)\n",
        "\n",
        "       #pesos capa oculta 6-----------------------------------------------------------------------------------------------------------------------------------------\n",
        "      for j in range(0, pesosCO6.shape[0]): #neurona de CO6\n",
        "        for k in range(0, pesosCO6.shape[1]): #Salida de la CO5\n",
        "          pesosCO6[j][k]+=factorAprendizaje*errorC6*entradaNetaC6[j]\n",
        "\n",
        "      # \n",
        "      # actualizar las tendencias 6\n",
        "      for j in range(0, tendenciasC6.shape[0]):\n",
        "        tendenciasC6[j]+=factorAprendizaje*errorC6*(-1)\n",
        "\n",
        "\n",
        "      #pesos capa oculta 5-----------------------------------------------------------------------------------------------------------------------------------------\n",
        "      for j in range(0, pesosCO5.shape[0]): #neurona de CO5\n",
        "        for k in range(0, pesosCO5.shape[1]): #Salida de la CO4\n",
        "          pesosCO5[j][k]+=factorAprendizaje*errorC5*entradaNetaC5[j]\n",
        "      # \n",
        "      # actualizar las tendencias 5\n",
        "      for j in range(0, tendenciasC5.shape[0]):\n",
        "        tendenciasC5[j]+=factorAprendizaje*errorC5*(-1)\n",
        "\n",
        "\n",
        "      #pesos capa oculta 4-----------------------------------------------------------------------------------------------------------------------------------------\n",
        "      for j in range(0, pesosCO4.shape[0]): #neurona de CO4\n",
        "        for k in range(0, pesosCO4.shape[1]): #Salida de la CO3\n",
        "          pesosCO4[j][k]+=factorAprendizaje*errorC4*entradaNetaC4[j]\n",
        "      # \n",
        "      # actualizar las tendencias 4\n",
        "      for j in range(0, tendenciasC4.shape[0]):\n",
        "        tendenciasC4[j]+=factorAprendizaje*errorC4*(-1)\n",
        "\n",
        "      \n",
        "      #pesos capa oculta 3\n",
        "      for j in range(0, pesosCO3.shape[0]): #neurona de CO3\n",
        "        for k in range(0, pesosCO3.shape[1]): #Salida de la CO2\n",
        "          pesosCO3[j][k]+=factorAprendizaje*errorC3*entradaNetaC3[j]\n",
        "      # \n",
        "      # actualizar las tendencias 3\n",
        "      for j in range(0, tendenciasC3.shape[0]):\n",
        "        tendenciasC3[j]+=factorAprendizaje*errorC3*(-1)\n",
        "\n",
        "      #pesos capa oculta 2\n",
        "      for j in range(0, pesosCO2.shape[0]): #neurona de CO2\n",
        "        for k in range(0, pesosCO2.shape[1]): #Salida de la CO1\n",
        "          pesosCO2[j][k]+=factorAprendizaje*errorC2*entradaNetaC2[j]\n",
        "      # \n",
        "      # actualizar las tendencias 2\n",
        "      for j in range(0, tendenciasC2.shape[0]):\n",
        "        tendenciasC2[j]+=factorAprendizaje*errorC2*(-1)\n",
        "\n",
        "      # Pesos capa oculta 1\n",
        "      for j in range(0, pesosCO1.shape[0]):\n",
        "        for k in range(0, pesosCO1.shape[1]):\n",
        "          pesosCO1[j][k]+=factorAprendizaje*errorC1*entradaNetaC1[j]\n",
        "\n",
        "      #Actualizar las tendencias 1\n",
        "      for j in range(0,tendenciasC1.shape[0]):\n",
        "        tendenciasC1[j]+=factorAprendizaje*errorC1*(-1)\n",
        "\n",
        "    if errorIt < errorAnt:\n",
        "      factorAprendizaje*=alpha\n",
        "  else:\n",
        "    factorAprendizaje*=rho\n",
        "  errorAnt=errorIt\n",
        "  return pesosCS, pesosCO1, pesosCO2, pesosCO3, pesosCO4, pesosCO5,pesosCO6, tendenciasC1, tendenciasC2, tendenciasC3, tendenciasC4,tendenciasC5,tendenciasC6, tendenciasCS, errorVec"
      ],
      "metadata": {
        "id": "bUieJqHpI6oh"
      },
      "execution_count": 37,
      "outputs": []
    },
    {
      "cell_type": "code",
      "source": [
        "# parametros\n",
        "neuronasC1=3\n",
        "neuronasC2=7 #2n+1 Regla de Kolmorogov\n",
        "neuronasC3=2\n",
        "neuronasC4=2\n",
        "neuronasC5=2\n",
        "neuronasC6=2\n",
        "factorAprendizaje=0.5\n",
        "alpha=1.05 # aumentar el factor de aprendizaje \n",
        "rho=0.95 #disminuir el factor de aprendizaje\n",
        "max_it=150\n",
        "error=0.5"
      ],
      "metadata": {
        "id": "poWZImr2JWx4"
      },
      "execution_count": 43,
      "outputs": []
    },
    {
      "cell_type": "code",
      "source": [
        "# x_train, x_test, y_train, y_test\n",
        "pesosCS, pesosCO1, pesosCO2, pesosCO3, pesosCO4, pesosCO5,pesosCO6, tc1, tc2, tc3, tc4, tc5,tc6, tcs, errorVec=backpropagation(\n",
        "    x_train, y_train, factorAprendizaje, error, max_it, alpha, rho, neuronasC1, \n",
        "    neuronasC2, neuronasC3, neuronasC4, neuronasC5, neuronasC6)"
      ],
      "metadata": {
        "id": "dww3r_cUJXpE"
      },
      "execution_count": 44,
      "outputs": []
    },
    {
      "cell_type": "code",
      "source": [
        "import matplotlib.pyplot as plt\n",
        "plt.plot(errorVec) \n",
        "plt.title(\"Error de entrenamiento\")"
      ],
      "metadata": {
        "id": "QgxN4xI1JbB8",
        "outputId": "4313bb37-27fd-4302-d44e-319d877edd32",
        "colab": {
          "base_uri": "https://localhost:8080/",
          "height": 298
        }
      },
      "execution_count": 45,
      "outputs": [
        {
          "output_type": "execute_result",
          "data": {
            "text/plain": [
              "Text(0.5, 1.0, 'Error de entrenamiento')"
            ]
          },
          "metadata": {},
          "execution_count": 45
        },
        {
          "output_type": "display_data",
          "data": {
            "text/plain": [
              "<Figure size 432x288 with 1 Axes>"
            ],
            "image/png": "iVBORw0KGgoAAAANSUhEUgAAAXAAAAEICAYAAABGaK+TAAAABHNCSVQICAgIfAhkiAAAAAlwSFlzAAALEgAACxIB0t1+/AAAADh0RVh0U29mdHdhcmUAbWF0cGxvdGxpYiB2ZXJzaW9uMy4yLjIsIGh0dHA6Ly9tYXRwbG90bGliLm9yZy+WH4yJAAAgAElEQVR4nO3de5xcdX3/8ddnZq+5bjbZhJAruXATMYFAuWkRUYGqSH9qpf4QWhTrw7ba2gpoW+H3qG39WaX0561YFLAUi4hCqWIRg9yhCYQQCJD7PWST7G4uu8nuznx+f5wzs7OzM9lJspvZc877+XjMY+ZcZuYzZ3c++93P9/s9x9wdERGJnlS1AxARkSOjBC4iElFK4CIiEaUELiISUUrgIiIRpQQuIhJRSuAyIpjZTWb2b9WOYyQzs5lmts/M0tWORUYGJfAEMrP1ZtYVJoPc7ZvVjqsawmNxcbXjqIS7b3T3Me6eOdrXMrPHzOwTQxGXVE9NtQOQqnm/u/9qsJ3MrMbde4vWpQ8niRzu/iNJqc8vMlKoBS79mNk1ZvaUmd1iZruAm8zsDjP7jpn93Mz2A+80s1PCVly7mb1iZh8oeI0B+5d4nxPM7DdmttfMHgEmFW0/x8yeDl//JTO78BAxH29mPzGzVjNbZ2Z/WrDtJjO718zuCt/rFTNbFG77ITAT+M/wv5AvmNlsM3Mzu9bMNgK/Dvf9QzNbaWZtZvZLM5tV8B5uZn9kZqvCeL9lZhZum2tmvzazXWa208zuNrOmgueuN7O/NLPlZrbfzG43sylm9osw3l+Z2YRw31xsNeHy+HD/bWa2xcz+NldeCX+OT5rZP4YxrzOzS8NtXwHeDnyz8L8vMzvPzP7HzDrC+/MG/42RqnJ33RJ2A9YDF5fZdg3QC/wJwX9ojcAdQAdwPsEf/bHAauCLQB1wEbAXOCl8jeL9G0q8zzPAN4B64B3h8/8t3DYN2AVcFj7/3eFyS4nXSQFLgb8JY5kDrAXeG26/CTgQvlYa+Hvg2XLHApgNOHAXMDr8/JeHn/eU8Jj8FfB0wXMceAhoIviD0ApcEm6bF8ZfD7QAjwP/VPT+zwJTws+9A3gBWAg0EPwB+XJRbDXh8k+BfwnjnAw8D3yq4OfYA3wy/NyfBrYCFm5/DPhEQRzNQBtwVfgZrwyXJ1b791W3Q3yXqx2AblX4oQdJYx/QXnD7ZLjtGmBj0f53AHcVLL8d2A6kCtbdA9xUav8S7z+T4I/E6IJ1/05fAr8e+GHRc34JXF3itX6rRLw3Aj8IH98E/Kpg26lAV9GxKJXA5xSs+wVwbcFyCugEZoXLDlxQsP1e4IYyn/2DwItF7/+xguWfAN8pWP4T4GdFsdUQJPyDQGPBvlcCiwt+jqsLto0Kn3tcuFycwK8Cni+K9Rngmmr/vupW/qYaeHJ90MvXwDcNsu54YJO7ZwvWbSBoQR7qNQqf3+bu+4uePyN8PAv4sJm9v2B7LbC4xGvNAo43s/aCdWngiYLl7QWPO4GGCmrbhfHPAm41s68XrDOCz7uhzHuMATCzKcCtBH/0xhIk/7ai93qz4HFXieUxJeKbRXBMtoXVGsLXLow7H5O7d4b7lXotCH4mG4rWFf9MZYRRApdSSp2isnDdVmCGmaUKkvhM4I1BXiNnGzDBzEYXJPGZBc/ZRNAC/2QFsW4C1rn7/Ar2LaVcnIXrNwFfcfe7j+D1/y58rbe6+24z+yAwFCN+NhG0wCcN8oeonOLPvZXgj0KhmcDDR/DacoyoE1OOxHMErcwvmFlt2MH4fuBHlTzZ3TcAS4CbzazOzC4In5/zb8D7zey9ZpY2swYzu9DMppd4ueeBvWZ2vZk1hvufZmZnVfhZ3iSomx/Kd4EbzewtkO88/HCFrz+WoFzVYWbTgL+s8HmH5O7bgP8Gvm5m48wsFXaY/naFL1H8uX8OnGhmv29mNWb2ewTlpoeGIl4ZHkrgyZUbeZG7/bTSJ7p7N0HCvRTYCXwb+Li7v3YY7//7BPXr3cCXCToNc6+/iaDj8IsEHYKbCBLfgN9XD4Ynvg9YAKwL4/lXYHyFcfw98Ffh6JG/KLWDu/8U+CrwIzPbA6wg+OyVuBk4g6BT97+A+yt8XiU+TtBx+ypBWeY+YGqFz70V+FA4QuWf3X0XwXH8PEGH8ReA97n7ziGMV4ZYrkdaREQiRi1wEZGIUgIXEYkoJXARkYhSAhcRiahjOg580qRJPnv27GP5liIikbd06dKd7t5SvP6YJvDZs2ezZMmSY/mWIiKRZ2bFs2QBlVBERCJLCVxEJKKUwEVEIkoJXEQkopTARUQiSglcRCSilMBFRCJKCVwkJjq7e7n/hc3oDKPJoQQuEhOPvPomf37vS2za3VXtUOQYUQIXiYnu3uDqdt2ZTJUjkWNFCVwkJrJh6SSTHWRHiQ0lcJGYyCXuTFY18KRQAheJiUzYAs+qEzMxlMBFYsKVwBNHCVwkJnKlE5VQkkMJXCQmcolbLfDkUAIXiQmNQkkeJXCRmNAolORRAheJiaw6MRNHCVwkJtSJmTxK4CIxkU/gaoEnhhK4SEzkSyhqgSfGoAnczBrM7Hkze8nMXjGzm8P1d5jZOjNbFt4WDH+4IlKOSijJU1PBPgeBi9x9n5nVAk+a2S/CbX/p7vcNX3giUilNpU+eQRO4B/Nz94WLteFNvyEiI0w2q3HgSVNRDdzM0ma2DNgBPOLuz4WbvmJmy83sFjOrL/Pc68xsiZktaW1tHaKwRaRYfhy4WuCJUVECd/eMuy8ApgNnm9lpwI3AycBZQDNwfZnn3ubui9x9UUtLyxCFLSLF1ImZPIc1CsXd24HFwCXuvs0DB4EfAGcPR4AiUhl1YiZPJaNQWsysKXzcCLwbeM3MpobrDPggsGI4AxWRQ8uVTlRCSY5KRqFMBe40szRBwr/X3R8ys1+bWQtgwDLgj4YxThEZRK50ohJKclQyCmU5sLDE+ouGJSIROSKaiZk8mokpEhO5hrda4MmhBC4SE33nA1cCTwolcJGY6LsiT5UDkWNGCVwkJjSVPnmUwEViIqtx4ImjBC4SExqFkjxK4CIxoan0yaMELhITGZ2NMHGUwEViIuO5e7XAk0IJXCQmNJU+eZTARWJCnZjJowQuEhMZdWImjhK4SExoHHjyKIGLxITOB548SuAiMaFOzORRAheJCbXAk0cJXCQm8lel10SexFACF4kJlVCSRwlcJCayKqEkjhK4SExoHHjyKIGLxERWMzETRwlcJCb6rshT5UDkmFECF4mJbDZ3rwyeFErgIjGR0VT6xFECF4kJTeRJHiVwkZjQOPDkGTSBm1mDmT1vZi+Z2StmdnO4/gQze87MVpvZf5hZ3fCHKyLlqAWePJW0wA8CF7n724AFwCVmdg7wVeAWd58HtAHXDl+YIjIY1cCTZ9AE7oF94WJteHPgIuC+cP2dwAeHJUIRqUi+hKIWeGJUVAM3s7SZLQN2AI8Aa4B2d+8Nd9kMTCvz3OvMbImZLWltbR2KmEWkhHwJRS3wxKgogbt7xt0XANOBs4GTK30Dd7/N3Re5+6KWlpYjDFNEBtM3Dry6ccixc1ijUNy9HVgMnAs0mVlNuGk6sGWIYxORw6BOzOSpZBRKi5k1hY8bgXcDKwkS+YfC3a4GHhiuIEVkcOrETJ6awXdhKnCnmaUJEv697v6Qmb0K/MjM/hZ4Ebh9GOMUkUMoHPutTszkGDSBu/tyYGGJ9WsJ6uEiUmWFZRO1wJNDMzFFYqAwaSuBJ4cSuEgMFFZNVEJJDiVwkRhQCSWZlMBFYiDTrxOzioHIMaUELhIDWdXAE0kJXCQGVEJJJiVwkRgobIG7OjETQwlcJAb6tcCVwBNDCVwkBnJlk9q0kdHJrBJDCVwkBnJnIKxNpzQOPEGUwEViIFc2qU2n1ImZIErgIjHQV0JJ6aLGCaIELhIDubJJXdrUiZkgSuAiMZBvgdeohJIkSuAiMdCvhKIWeGIogYvEQFadmImkBC4SA7mkXZc2sq7ZmEmhBC4SA4Ut8GC5mtHIsaIELhIDmYKJPMGyMngSKIGLxECuBV6Ttn7LEm9K4CIxkM32L6GoBZ4MSuAiMdA3ld76LUu8KYGLxECmqAWu6fTJoAQuEgN9U+lVQkkSJXCRGBgwCkUllERQAheJgb5zoQQ1cOXvZBg0gZvZDDNbbGavmtkrZvbZcP1NZrbFzJaFt8uGP1wRKaV4Io9KKMlQU8E+vcDn3f0FMxsLLDWzR8Jtt7j7Pw5feCJSib6p9ErgSTJoAnf3bcC28PFeM1sJTBvuwESkcgOn0iuBJ8Fh1cDNbDawEHguXPXHZrbczL5vZhPKPOc6M1tiZktaW1uPKlgRKa14GKFa4MlQcQI3szHAT4DPufse4DvAXGABQQv966We5+63ufsid1/U0tIyBCGLSLHiTky1wJOhogRuZrUEyftud78fwN3fdPeMu2eB7wFnD1+YInIoA8eBVzMaOVYqGYViwO3ASnf/RsH6qQW7XQGsGPrwRKQSOhthMlUyCuV84CrgZTNbFq77InClmS0AHFgPfGpYIhSRQWXUiZlIlYxCeRKwEpt+PvThiMiR6DsbYXgyK7XAE0EzMUViID8OvEZT6ZNECVwkBvIXdEjpbIRJogQuEgPZ4vOBK4EnghK4SAzobITJpAQuEgMDptJrHHgiKIGLxECmeBSKWuCJoAQuEgN9U+nViZkkSuAiMdA3CkWdmEmiBC4SA5msk04ZKVMJJUmUwEViIONO2ox0KndJNSXwJFACF4mBbNZJpcgncJ2NMBmUwEViIJOFtKmEkjRK4CIxkHUnleoroWgUSjIogYvEQK4TM20ahZIkSuAiMZDrxAzPZaUSSkIogYvEQNCJqRJK0iiBi8RAJhsOI1QnZqIogYvEQMbDiTxqgSeKErhIDOTGgafUiZkoSuAiMZBxikooVQ5IjgklcJEYyI0Dz41CUQklGZTARWIgm+1/LhR1YiaDErhIDGSyTqpwKr1a4ImgBC4SA5pKn0xK4CIxEEylR+PAE0YJXCQGcqNQNA48WQZN4GY2w8wWm9mrZvaKmX02XN9sZo+Y2arwfsLwhysipeSm0kNwTnC1wJOhkhZ4L/B5dz8VOAf4jJmdCtwAPOru84FHw2URqYLcVHoIWuK6oEMyDJrA3X2bu78QPt4LrASmAZcDd4a73Ql8cLiCFJFDy3hfCzyV6rvIscTbYdXAzWw2sBB4Dpji7tvCTduBKWWec52ZLTGzJa2trUcRqoiUky1qgasGngwVJ3AzGwP8BPicu+8p3ObBFVRL/sa4+23uvsjdF7W0tBxVsCJSWu5kVgAp1cATo6IEbma1BMn7bne/P1z9pplNDbdPBXYMT4giMpjiTky1wJOhklEoBtwOrHT3bxRsehC4Onx8NfDA0IcnIpUIrsgTPE6bWuBJUVPBPucDVwEvm9mycN0XgX8A7jWza4ENwEeGJ0QRGUwmS/8SikahJMKgCdzdnwSszOZ3DW04InIksuG5UABSpok8SaGZmCIxUNiJqRJKciiBi8RAYSdmSp2YiaEELhIDQSemptInjRK4SAxki0soaoEnghK4SAxks30XNE6lTFPpE0IJXCQGgivyBI/VAk8OJXCRGBgwlV7jwBNBCVwkBvpPpdfZCJNCCVwkBvqNQlEJJTGUwEViILgmpjoxkyYSCfyVrR08uvLNaochMmIVTqVXCzw5IpHA73l+I3/x45eqHYbIiBV0YgaPg05MJfAkiEQCb6hJc6BH3eoi5WSz9HVimkooSRGNBF6b5mBvBtcvpUhJxVPp1QBPhogk8BRZh56MfitFSinuxFQJJRkiksDTABzozVQ5EpGRJ3fmwb5OzPLjwJdvbteZCmMkEgm8PpfAe5TARYrlzjyYb4GXGYWypnUfH/jmU/xmVesxjU+GTyQSeENNEOZBdWSKDJBL1oOVUHbsOQhAa3gv0ReNBK4WuEhZuXJJ4TjwUiWUPQd6+t1L9EUsgasFLlKsrwVOeF+6Bb6nq6ffvURfRBJ4EKY6MUUGyobtmv7nAx+4394DvQDsCe8l+iKSwFVCESmnuBMzbZRugauEEjvRSOA1KqGIlJMtHoVSpoSSb4F3qQUeF9FI4LkSilrgIgPkxnXbYJ2YXWqBx01EErhKKCLl5EsohVelP1QJRZ2YsRGJBF6f78RUCUWkWPEolHLnA8+VUPaqEzM2Bk3gZvZ9M9thZisK1t1kZlvMbFl4u2w4g8y1wA+qBS4yQPEolHLnA1cnZvxU0gK/A7ikxPpb3H1BePv50IbVX32NauAi5QwYhVJ2HHjQ8t53sFfnQ4mJQRO4uz8O7D4GsZRVl05hplEoIqUMmEpv5caBBy1vd9h7UGWUODiaGvgfm9nysMQyodxOZnadmS0xsyWtrUd2Eh0zCy/qoBa4SLEBU+lTA8eBuzt7DvTSMrYe6EvmEm1HmsC/A8wFFgDbgK+X29Hdb3P3Re6+qKWl5QjfLhhKqJmYIgOVPJlVUSdmV0+GTNaZPqER0FjwuDiiBO7ub7p7xt2zwPeAs4c2rIEaanVZNZFSMgPOB24Daty5hD2tKUzgaoHHwhElcDObWrB4BbCi3L5DJUjgaoGLFBswE7PERJ5cwp6Wb4ErgcdBzWA7mNk9wIXAJDPbDHwZuNDMFgAOrAc+NYwxAsFIFLXARQYqPQ48qHvnZmfmat7TJ4wKl1VCiYNBE7i7X1li9e3DEMsh5S5sLCL9lTofeLA+OLEV9JVQpquEEiuRmIkJYSemSigiA2TCf0z7xoHn1veVUQaWUNQCj4MIJXB1YoqUki+hFJwPHPpf2Dh3DvCmUbWMrktrGGFMRCeBaxy4SEn5EkqqfwmlXws87LQc11DL2IZalVBiIjoJXOPARUoqHgeeuy8cC773QC91NSkaatOMa6xRCSUmIpTAVUKRZHjs9R3c/dyGivfPFHVi5u6zRTXwcQ3BmIVxaoHHRsQSuFrgEn/ff2o9//fh1/ESp4QtxUuczAoGllDGNdQCMK6xVsMIYyIyCby+NsVBtcAlAba0ddLR1cOu/d0V7Z/Jn042vC9TQhnbGCTwsQ01aoHHRGQSeENNmu5MtuRpMkXiwt3Z3NYFwOod+yp6Tqmp9NB3nnAoUULRTMxYiE4CDy/q0K2r8khM3Ps/m3hg2ZZ+63bu6+Zg+DteaQIvnkqfHwfu5UooNew50FtxiUZGrgglcF3UQeLlu4+v4bbH1/Zbt6W9K/94TevhtcALz4UC/Tsx9x7oZWxBCzyTdbr0XYq8QafSjxT5CxtrKKHEgLuzrf0AjpPNer5uvbmtE4BRdenDboGn7BCdmAd6GJevgQf3e7p6GVUXmRQgJUSwBa4SikRfR1cPXT0ZDvRk+7W6t4T17/PmTmTNYdbAy40D7+7NcqAn21cDbwzu1ZEZfdFJ4DVhC1z/9kkMbG0/kH+8uqBUsrmti3ENNSyY0cTWjgPsr+DSZwOm0heVUHLT5nMt73H5FrgSeNRF5v+nfAlFCVxiYFtHQa17xz7eedJkICihTJ8wirktYwBY27qft04ff8jX6ptKHyznWuB7D/ZyoCeTPw9KruWdK6Vs2NWZP7mVDL8Jo+ryeWyoRCaB16uEIhHg7jz2eisLZjQxYXRd2f22dgQt8Nq09at1b2nvYtbE0cybHCTwNa37mD1pFDv2Hswn9WIbdgV185owg9fXBPe/++2ngeCi4ABj64PEPTGM6/M/funIPqQckTv+4CwuDP9QD5XIJHB1YspI5+587Zev8+3H1nDNebO56QNvKbvvtvYualLG6dOb8gk8Nwb8/HmTmDVxNOmU8fKWDm5/ch1b2rtY+lcX5y/QkHP7k+v49mNruPiUyUwZF1yw+Px5k/i7K95KZ3cvB3uztHd205Nxzp7TDMCM5lH8y1Vn0lbhRCEZGidOGTvkrxmdBB7WwA+qhCIj1Fcffp3v/mYNdTUplmzYfch9t3UcYMq4Bk6cMoaHV2wHoK2zh87uDNMnjKKuJsWs5lH84Kl15AaTtHX20Dy6jjf3HOD2J9fx7NpdLN/cwWVvPY5/+r2F+eTeUJvm939r5iHf/71vOe7oP7BUXXQ6MVVCkRFsc1sn3/3NGj585nQ++fYTWLlt7yE7ILe2d3F8UwNzW8bQ1tnDrn0H8yNQchcenjt5DFmHt8+fBMCGXfsBuOuZ9XzvibU01Ka5/pKT+eePLqSuJjJfZRlCkfmp16sTU0awJ1btBOC6d8xh0exmMlnnpU3tZfff1nGAqeMb87Xu1Tv25ceATw87Fq+94AS+eNnJ/PX7TgVg4+7O/L5zJo3m3k+dy6cvnEtNOjJfYxliESqhaCamDI9tHV2senMfW9u7GNNQw6Qx9bxtehONdZWPGHhiVSvHjWtg3uQxTB7XAMDSDW2cN2/SgH2zWWd7xwGmvrWhL4G37qOrO/jdnhFeePicORM5Z87E/PqNYWfl2tb9zCnToSnJEp0Enu/EVAlFjt6OPQf48dLNPLBsC2+8OXDCTF06xVknTOCCeS1ceFILp0wdV/a1MlnnqdW7eM+pUzAzxjfWcuKUMSzd2FZy/137u+nOZDl+fCPHj2+ksTbN69v30pPJMqa+Jj/cL6exLs3ksfVs3N1JbybLhl2dXHTK0I5mkGiKXgJXC1yOwsZdnXz7sdXc/8IWujNZFs2awF+/71Tecvw4pjU10tmdYWt7F0+t3skTq3by1Ydf46sPvxaWM07Jj7Eu9PKWDjq6enj7iS35dWfOmsB/Ld/Wb5p8Tm4M+NTxDaRSxtzJo7nrmeACDqdNGzdgpAnArImj2LC7k81tXXRnssydpBa4RCiBp1NGbdrUiSlHpG1/N//v16v54bPrSZnxkbOm84kL5jB70ugB+5503FjeeXLQwt2x5wDfWrya259cx9rWfXzrY2cMOH/IE2+0YgYXFJRLzpzVzD3Pb2J1674Bw8dyszCPDzsrb7z0FJ5bu4upTY2cM2diyfhnNI/imTW7WLsz+G9h7uSBcUvyRCaBgy5sLIfvQE+GO55ez7cWr2b/wV4+fOYM/vw9JzIlrFMPZvK4Bm6+/DTmTxnLXz+wgn/4xWv8n8tP67fPE6t2ctrx42kumLhz5qwJQFAHL07ghS1wCMZtn1+iVl5oVvNofvriFlZu2wvAHLXAhYgl8PraNAc1kUcqkM06P1u2ha//9xtsae/inSe1cMOlp3DScUc2meJ/nzOLNa37+MFT67nktOM4b26QcNv2d/PCxjY++Y45/fafPXEUzaPrWLqhjSvP7j8me1vHAeprUv0S/mBmTmzEHX7zRisTRtUecpanJMeg44/M7PtmtsPMVhSsazazR8xsVXg/YXjDDDTUplRCkUE9tXon7//mk/z5vS8xYXQt//6J3+IHf3D2ESfvnC+892RmTRzF9T9Znh/jfdczG+jNOlcsnNZvXzNjwYwmlpUYSri1vYup4xtK1rrLmdkclEyWbmjTCBTJq2QA6R3AJUXrbgAedff5wKPh8rCL4oWN73hqHZ+8a0m1w0iEpRvauOr25/jYvz5He2cPt350AQ9+5oKSQ/mORGNdmq996G1sbuvi5v98hc7uXu54eh0XnzK55DTphTOaWNO6b8BpW7e0dzF1/OGdRGpmczC0MJN15pSo20syDVpCcffHzWx20erLgQvDx3cCjwHXD2FcJQUt8Ggl8Pte2MyKLXvY3nGA48ZXVneVw/PixjZu+dUqHn+jlebRdXzpslO46txZQ37mN4CzT2jmMxfO45uLV7Ot4wBtnT18+sK5JfddMLMJd1i+qYMLwtmUyza18+LGdv70onmH9b6TxtQxqi5NZ3eGuZPVApfAkdbAp7j7tvDxdmDKEMVzSEEnZnRKKB2dPbyydQ8Az6zdyRULp1c5ovjIZJ3Fr+3gzmfW88SqnUwYVcsNl57MVefMYnT98HbtfO7i+Ty7dhdPrNrJ2bObOXNWc8n9Tp/eBAR/YC6YPwl35+b/fIWWsfVc99ulk345ZsbM5lG8tn2vWuCSd9S/6e7uZlb26qhmdh1wHcDMmYc+wc5gGmrT7O8e/AT3I8Xz63eTu27s06t3KYEPgbb93fx46SZ++OwGNu3uYsq4eq6/5GQ+fu7wJ+6cmnSKW69cyJ/9xzKuv+SksvuNb6xl3uQx+Tr4A8u28uLGdr72odMZcwSxzsglcNXAJXSkv/FvmtlUd99mZlOBHeV2dPfbgNsAFi1adFSXwW6oTbFrf3Ra4M+s2UV9TYrz5k7kmbW7qh1OZHV09vDfr27nv17exlOrdwanRj2hmRsuOYX3vGUKtVU4F8i0pkbu/dS5g+63YEYTi1/bQUdnD3/385WcPn08/+uMI/tDPm/yGB5/ozVfDxc50gT+IHA18A/h/QNDFtEh1NemI3U62WfX7uLMWRO48KTJLH69lU27O5mhL9+gejNZXt7SwbNrd/P0mp08u3YXPRlnWlMjf3D+CVyxcNohp7aPJAtmNHHf0s388T0vsGt/N7dffdaAmZmV+qN3zOV33jpVZx6UvEETuJndQ9BhOcnMNgNfJkjc95rZtcAG4CPDGWROlCbytHd2s3L7Hv7s4hM5d24wu+6ZNbuUwIsc7M2wZsd+Xtu+h9e37+XVbXt4YUMb+8MTOM2fPIZrzpvN75x+PG+bPv6wht6NBAtnBnXwJ1bt5NMXzh308miHMn5ULeNHHfnzJX4qGYVyZZlN7xriWAbVUJuKzMmsnlsX1L/PnTuR+ZPHMGlMHU+v2clHzppR7dCGTSbrdPdm6e7NcrA3Q0dXD22dPbR3dtPe1UNHZw+7O7vZ1t7F5rYutrR38eaeA/kLFtSlU8ybPIbfPWM658yZyNknNNMytr66H+oonTRlLKPq0hw3voHPvmt+tcORmInUTMzG2jS793dz9ld+RW06RTpl1KQMRmCjrKOzh4baFKeHrcZz507iZ8u28osV26lJGenwlmtR5j5CXwPT+i0Xb7ey2/sfjPz2Ms8r5iV6KZyBK7NZONibpScTJOzuTDZ/dfRDqUkZx41vYFpTI+fOncj0pkbmTRnLKceNZfak0VWpZw+nmnSK7318EdMnNA7LsEZJtkgl8I+cNYPuTJA0ejJObyZLbwVJo4zqKYMAAAV3SURBVFrOmt1MfXgpuM9dPJ+ZzY30ZpzerJMJb9CXIHPJM/eJ+pJp0fb8fod+Xj7xDtju+eVSebxUmaJ4jZlRV5OiviZFbTp4XJdOB/fh+qZRtTQ11tE0qpbxjbU0japlTH1N5MogR2uw85yIHCnzUk2uYbJo0SJfskSzEkVEDoeZLXX3RcXr4/X/qohIgiiBi4hElBK4iEhEKYGLiESUEriISEQpgYuIRJQSuIhIRCmBi4hE1DGdyGNmrQQnvzoSk4CdQxjOcFCMQ0MxHr2RHh8oxsMxy91bilce0wR+NMxsSamZSCOJYhwaivHojfT4QDEOBZVQREQiSglcRCSiopTAb6t2ABVQjENDMR69kR4fKMajFpkauIiI9BelFriIiBRQAhcRiahIJHAzu8TMXjez1WZ2wwiIZ4aZLTazV83sFTP7bLi+2cweMbNV4f2EERBr2sxeNLOHwuUTzOy58Fj+h5nVVTm+JjO7z8xeM7OVZnbuSDuOZvZn4c95hZndY2YN1T6OZvZ9M9thZisK1pU8bhb45zDW5WZ2RhVj/Fr4s15uZj81s6aCbTeGMb5uZu+tVowF2z5vZm5mk8LlqhzHQxnxCdzM0sC3gEuBU4ErzezU6kZFL/B5dz8VOAf4TBjTDcCj7j4feDRcrrbPAisLlr8K3OLu84A24NqqRNXnVuBhdz8ZeBtBrCPmOJrZNOBPgUXufhqQBj5K9Y/jHcAlRevKHbdLgfnh7TrgO1WM8RHgNHc/HXgDuBEg/P58FHhL+Jxvh9/9asSImc0A3gNsLFhdreNYnruP6BtwLvDLguUbgRurHVdRjA8A7wZeB6aG66YCr1c5rukEX+SLgIcILm25E6gpdWyrEN94YB1hZ3rB+hFzHIFpwCagmeAasg8B7x0JxxGYDawY7LgB/wJcWWq/Yx1j0bYrgLvDx/2+18AvgXOrFSNwH0GDYj0wqdrHsdxtxLfA6fsC5WwO140IZjYbWAg8B0xx923hpu3AlCqFlfNPwBeAbLg8EWh3995wudrH8gSgFfhBWOb5VzMbzQg6ju6+BfhHgpbYNqADWMrIOo455Y7bSP0O/SHwi/DxiInRzC4Htrj7S0WbRkyMOVFI4COWmY0BfgJ8zt33FG7z4E901cZomtn7gB3uvrRaMVSgBjgD+I67LwT2U1QuGQHHcQJwOcEfm+OB0ZT4l3ukqfZxG4yZfYmgFHl3tWMpZGajgC8Cf1PtWCoRhQS+BZhRsDw9XFdVZlZLkLzvdvf7w9VvmtnUcPtUYEe14gPOBz5gZuuBHxGUUW4FmsysJtyn2sdyM7DZ3Z8Ll+8jSOgj6TheDKxz91Z37wHuJzi2I+k45pQ7biPqO2Rm1wDvAz4W/qGBkRPjXII/1i+F353pwAtmdhwjJ8a8KCTw/wHmh73+dQQdHQ9WMyAzM+B2YKW7f6Ng04PA1eHjqwlq41Xh7je6+3R3n01wzH7t7h8DFgMfCnerdozbgU1mdlK46l3Aq4yg40hQOjnHzEaFP/dcjCPmOBYod9weBD4ejqI4B+goKLUcU2Z2CUFZ7wPu3lmw6UHgo2ZWb2YnEHQUPn+s43P3l919srvPDr87m4Ezwt/VEXMc86pZgD+MTobLCHqs1wBfGgHxXEDw7+lyYFl4u4ygxvwosAr4FdBc7VjDeC8EHgofzyH4YqwGfgzUVzm2BcCS8Fj+DJgw0o4jcDPwGrAC+CFQX+3jCNxDUJPvIUgy15Y7bgSd198Kvz8vE4yoqVaMqwnqyLnvzXcL9v9SGOPrwKXVirFo+3r6OjGrchwPddNUehGRiIpCCUVEREpQAhcRiSglcBGRiFICFxGJKCVwEZGIUgIXEYkoJXARkYj6/2s0ArvIEIuOAAAAAElFTkSuQmCC\n"
          },
          "metadata": {
            "needs_background": "light"
          }
        }
      ]
    },
    {
      "cell_type": "code",
      "source": [
        "import math\n",
        "def errorRNN(x,t):\n",
        "  error=0\n",
        "  emc=0\n",
        "  for i in range(0,x.shape[0]):\n",
        "    authuser=0\n",
        "    xi=x[i]\n",
        "    ti=t[i]\n",
        "    y,entredaNetaCS,entradaNetaC6,entradaNetaC5,entradaNetaC4,entradaNetaC3,entradaNetaC2,entradaNetaC1=neurona(xi,pesosCO1,tc1,pesosCO2,tc2, pesosCO3,tc3, pesosCO4,tc4,pesosCO5,tc5,pesosCO6,tc6,pesosCS, tcs)\n",
        "    \n",
        "    emc=pow((ti-y),2)/2\n",
        "    if int(round(y[0],0))!=ti:\n",
        "      error+=1\n",
        "\n",
        "  error=(error/x.shape[0])*100\n",
        "\n",
        "  return error, emc"
      ],
      "metadata": {
        "id": "KjV5QR3w4h6F"
      },
      "execution_count": 46,
      "outputs": []
    },
    {
      "cell_type": "code",
      "source": [
        "error, emc=errorRNN(x_test, y_test)\n",
        "print(error,emc)"
      ],
      "metadata": {
        "id": "CNZSiLVE4qYW",
        "colab": {
          "base_uri": "https://localhost:8080/"
        },
        "outputId": "7bba8c1b-0552-4432-ae4c-90950486b70a"
      },
      "execution_count": 47,
      "outputs": [
        {
          "output_type": "stream",
          "name": "stdout",
          "text": [
            "18.6046511627907 [9.77347195e-21]\n"
          ]
        }
      ]
    },
    {
      "cell_type": "code",
      "source": [
        "from sklearn.neural_network import MLPClassifier\n",
        "clf=MLPClassifier(solver='lbfgs', alpha=1e-5,hidden_layer_sizes=(neuronasC1, neuronasC2, neuronasC3, neuronasC4),random_state=1)\n",
        "clf.fit(x_train, y_train)"
      ],
      "metadata": {
        "id": "d6cbX28Z4vU2",
        "colab": {
          "base_uri": "https://localhost:8080/"
        },
        "outputId": "fe2f0764-e3a1-4891-fb65-d974f49bc776"
      },
      "execution_count": 48,
      "outputs": [
        {
          "output_type": "stream",
          "name": "stderr",
          "text": [
            "/usr/local/lib/python3.7/dist-packages/sklearn/neural_network/_multilayer_perceptron.py:1109: DataConversionWarning: A column-vector y was passed when a 1d array was expected. Please change the shape of y to (n_samples, ), for example using ravel().\n",
            "  y = column_or_1d(y, warn=True)\n"
          ]
        },
        {
          "output_type": "execute_result",
          "data": {
            "text/plain": [
              "MLPClassifier(alpha=1e-05, hidden_layer_sizes=(3, 7, 2, 2), random_state=1,\n",
              "              solver='lbfgs')"
            ]
          },
          "metadata": {},
          "execution_count": 48
        }
      ]
    },
    {
      "cell_type": "code",
      "source": [
        "clf.score(x_test, y_test)"
      ],
      "metadata": {
        "id": "3RS45PeZ42ON",
        "colab": {
          "base_uri": "https://localhost:8080/"
        },
        "outputId": "752eca3d-ae66-40eb-b144-c9adfc3b5f4d"
      },
      "execution_count": 49,
      "outputs": [
        {
          "output_type": "execute_result",
          "data": {
            "text/plain": [
              "0.813953488372093"
            ]
          },
          "metadata": {},
          "execution_count": 49
        }
      ]
    }
  ]
}
